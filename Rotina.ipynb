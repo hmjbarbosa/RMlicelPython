{
 "cells": [
  {
   "cell_type": "code",
   "execution_count": 669,
   "id": "76c16d01",
   "metadata": {},
   "outputs": [],
   "source": [
    "import numpy as np\n",
    "import xarray as xr\n",
    "import matplotlib.pyplot as plt\n",
    "import pandas as pd\n",
    "from scipy import integrate \n",
    "from scipy import optimize\n",
    "from scipy.interpolate import interp1d"
   ]
  },
  {
   "cell_type": "markdown",
   "id": "39cb6795",
   "metadata": {},
   "source": [
    "# Read data"
   ]
  },
  {
   "cell_type": "code",
   "execution_count": 670,
   "id": "6e91db67",
   "metadata": {},
   "outputs": [],
   "source": [
    "%run profile_read_py.py"
   ]
  },
  {
   "cell_type": "code",
   "execution_count": 671,
   "id": "4c3661db",
   "metadata": {},
   "outputs": [],
   "source": [
    "arquivo = '/Volumes/GoogleDrive/My Drive/Estudos/IC/Henrique/Programs/RMlicelPython/RM1183023.324' #30 agosto 2011\n",
    "\n",
    "read = profile_read(arquivo)\n",
    "phy  = read[1]\n",
    "\n",
    "df = pd.DataFrame(phy)\n",
    "\n",
    "# Aqui é um jeito provisório de fazer o header\n",
    "\n",
    "lista = []\n",
    "for i in range(len(read[0]['ch']['active'])):\n",
    "    wlen = str(read[0]['ch']['wlen'][i])\n",
    "    pol = str(read[0]['ch']['pol'][i])\n",
    "    photon = read[0]['ch']['photons'][i]\n",
    "    an = 'analog' if photon == 0 else 'photon'\n",
    "    tr = read[0]['ch']['tr'][i]\n",
    "    lista.append(wlen + ' ' + pol + ' ' + an + ' ' + tr[-1])\n",
    "\n",
    "###############################################\n",
    "\n",
    "\n",
    "df.columns = lista\n",
    "alt = 7.5*(np.array(df.index) + 1)\n",
    "\n",
    "df['alt'] = alt\n",
    "s355 = df['355 o analog 0']"
   ]
  },
  {
   "cell_type": "code",
   "execution_count": 672,
   "id": "6a238473",
   "metadata": {
    "scrolled": true
   },
   "outputs": [
    {
     "data": {
      "text/html": [
       "<div>\n",
       "<style scoped>\n",
       "    .dataframe tbody tr th:only-of-type {\n",
       "        vertical-align: middle;\n",
       "    }\n",
       "\n",
       "    .dataframe tbody tr th {\n",
       "        vertical-align: top;\n",
       "    }\n",
       "\n",
       "    .dataframe thead th {\n",
       "        text-align: right;\n",
       "    }\n",
       "</style>\n",
       "<table border=\"1\" class=\"dataframe\">\n",
       "  <thead>\n",
       "    <tr style=\"text-align: right;\">\n",
       "      <th></th>\n",
       "      <th>355 o analog 0</th>\n",
       "      <th>355 o photon 0</th>\n",
       "      <th>387 o analog 1</th>\n",
       "      <th>387 o photon 1</th>\n",
       "      <th>408 o photon 2</th>\n",
       "    </tr>\n",
       "    <tr>\n",
       "      <th>alt</th>\n",
       "      <th></th>\n",
       "      <th></th>\n",
       "      <th></th>\n",
       "      <th></th>\n",
       "      <th></th>\n",
       "    </tr>\n",
       "  </thead>\n",
       "  <tbody>\n",
       "    <tr>\n",
       "      <th>7.5</th>\n",
       "      <td>1.610514</td>\n",
       "      <td>135.066667</td>\n",
       "      <td>2.006006</td>\n",
       "      <td>78.700000</td>\n",
       "      <td>2.833333</td>\n",
       "    </tr>\n",
       "    <tr>\n",
       "      <th>15.0</th>\n",
       "      <td>1.610107</td>\n",
       "      <td>132.966667</td>\n",
       "      <td>2.006917</td>\n",
       "      <td>66.466667</td>\n",
       "      <td>2.233333</td>\n",
       "    </tr>\n",
       "    <tr>\n",
       "      <th>22.5</th>\n",
       "      <td>1.607259</td>\n",
       "      <td>131.233333</td>\n",
       "      <td>2.006453</td>\n",
       "      <td>62.566667</td>\n",
       "      <td>1.433333</td>\n",
       "    </tr>\n",
       "    <tr>\n",
       "      <th>30.0</th>\n",
       "      <td>1.609294</td>\n",
       "      <td>130.533333</td>\n",
       "      <td>2.006340</td>\n",
       "      <td>62.700000</td>\n",
       "      <td>1.566667</td>\n",
       "    </tr>\n",
       "    <tr>\n",
       "      <th>37.5</th>\n",
       "      <td>1.608073</td>\n",
       "      <td>125.733333</td>\n",
       "      <td>2.005892</td>\n",
       "      <td>55.833333</td>\n",
       "      <td>1.233333</td>\n",
       "    </tr>\n",
       "    <tr>\n",
       "      <th>...</th>\n",
       "      <td>...</td>\n",
       "      <td>...</td>\n",
       "      <td>...</td>\n",
       "      <td>...</td>\n",
       "      <td>...</td>\n",
       "    </tr>\n",
       "    <tr>\n",
       "      <th>29970.0</th>\n",
       "      <td>1.615804</td>\n",
       "      <td>0.000000</td>\n",
       "      <td>2.010620</td>\n",
       "      <td>0.000000</td>\n",
       "      <td>0.000000</td>\n",
       "    </tr>\n",
       "    <tr>\n",
       "      <th>29977.5</th>\n",
       "      <td>1.618856</td>\n",
       "      <td>0.000000</td>\n",
       "      <td>2.010539</td>\n",
       "      <td>0.033333</td>\n",
       "      <td>0.000000</td>\n",
       "    </tr>\n",
       "    <tr>\n",
       "      <th>29985.0</th>\n",
       "      <td>1.614583</td>\n",
       "      <td>0.000000</td>\n",
       "      <td>2.009847</td>\n",
       "      <td>0.000000</td>\n",
       "      <td>0.000000</td>\n",
       "    </tr>\n",
       "    <tr>\n",
       "      <th>29992.5</th>\n",
       "      <td>1.613770</td>\n",
       "      <td>0.000000</td>\n",
       "      <td>2.010352</td>\n",
       "      <td>0.000000</td>\n",
       "      <td>0.000000</td>\n",
       "    </tr>\n",
       "    <tr>\n",
       "      <th>30000.0</th>\n",
       "      <td>1.614380</td>\n",
       "      <td>0.000000</td>\n",
       "      <td>2.010474</td>\n",
       "      <td>0.000000</td>\n",
       "      <td>0.000000</td>\n",
       "    </tr>\n",
       "  </tbody>\n",
       "</table>\n",
       "<p>4000 rows × 5 columns</p>\n",
       "</div>"
      ],
      "text/plain": [
       "         355 o analog 0  355 o photon 0  387 o analog 1  387 o photon 1  \\\n",
       "alt                                                                       \n",
       "7.5            1.610514      135.066667        2.006006       78.700000   \n",
       "15.0           1.610107      132.966667        2.006917       66.466667   \n",
       "22.5           1.607259      131.233333        2.006453       62.566667   \n",
       "30.0           1.609294      130.533333        2.006340       62.700000   \n",
       "37.5           1.608073      125.733333        2.005892       55.833333   \n",
       "...                 ...             ...             ...             ...   \n",
       "29970.0        1.615804        0.000000        2.010620        0.000000   \n",
       "29977.5        1.618856        0.000000        2.010539        0.033333   \n",
       "29985.0        1.614583        0.000000        2.009847        0.000000   \n",
       "29992.5        1.613770        0.000000        2.010352        0.000000   \n",
       "30000.0        1.614380        0.000000        2.010474        0.000000   \n",
       "\n",
       "         408 o photon 2  \n",
       "alt                      \n",
       "7.5            2.833333  \n",
       "15.0           2.233333  \n",
       "22.5           1.433333  \n",
       "30.0           1.566667  \n",
       "37.5           1.233333  \n",
       "...                 ...  \n",
       "29970.0        0.000000  \n",
       "29977.5        0.000000  \n",
       "29985.0        0.000000  \n",
       "29992.5        0.000000  \n",
       "30000.0        0.000000  \n",
       "\n",
       "[4000 rows x 5 columns]"
      ]
     },
     "execution_count": 672,
     "metadata": {},
     "output_type": "execute_result"
    }
   ],
   "source": [
    "df = df.set_index('alt')\n",
    "df"
   ]
  },
  {
   "cell_type": "code",
   "execution_count": 673,
   "id": "184a32fb",
   "metadata": {
    "scrolled": true
   },
   "outputs": [
    {
     "data": {
      "image/png": "[encoded data removed]",
      "text/plain": [
       "<Figure size 432x288 with 5 Axes>"
      ]
     },
     "metadata": {
      "needs_background": "light"
     },
     "output_type": "display_data"
    }
   ],
   "source": [
    "plot = df[:3000].plot(grid=True, subplots=True, title='First test plot')"
   ]
  },
  {
   "cell_type": "markdown",
   "id": "bff9a1ce",
   "metadata": {},
   "source": [
    "# Reading multiple data (mean signal)"
   ]
  },
  {
   "cell_type": "markdown",
   "id": "5f2b115e",
   "metadata": {},
   "source": [
    "The idea here is to iterate over the data files in a month directory."
   ]
  },
  {
   "cell_type": "code",
   "execution_count": 674,
   "id": "0dc310e8",
   "metadata": {},
   "outputs": [],
   "source": [
    "import os\n",
    "\n",
    "directory = '/Volumes/GoogleDrive/My Drive/Estudos/IC/Henrique/Programs/RMlicelPython/30'\n",
    "\n",
    "\n",
    "\n",
    "initial = 700\n",
    "final = 730\n",
    "\n",
    "data = np.zeros((4000, final - initial))\n",
    "cont = 0\n",
    "\n",
    "\n",
    "for filename in os.listdir(directory)[initial:final]:\n",
    "    read = profile_read(directory + '/' + filename)\n",
    "    data[:, cont] = read[1][:, 0]\n",
    "    phy = read[1]\n",
    "    cont += 1"
   ]
  },
  {
   "cell_type": "code",
   "execution_count": 675,
   "id": "2026a8b1",
   "metadata": {},
   "outputs": [
    {
     "data": {
      "text/plain": [
       "11.666666666666666"
      ]
     },
     "execution_count": 675,
     "metadata": {},
     "output_type": "execute_result"
    }
   ],
   "source": [
    "700/60"
   ]
  },
  {
   "cell_type": "code",
   "execution_count": 676,
   "id": "3893ae12",
   "metadata": {},
   "outputs": [
    {
     "data": {
      "text/html": [
       "<div>\n",
       "<style scoped>\n",
       "    .dataframe tbody tr th:only-of-type {\n",
       "        vertical-align: middle;\n",
       "    }\n",
       "\n",
       "    .dataframe tbody tr th {\n",
       "        vertical-align: top;\n",
       "    }\n",
       "\n",
       "    .dataframe thead th {\n",
       "        text-align: right;\n",
       "    }\n",
       "</style>\n",
       "<table border=\"1\" class=\"dataframe\">\n",
       "  <thead>\n",
       "    <tr style=\"text-align: right;\">\n",
       "      <th></th>\n",
       "      <th>0</th>\n",
       "      <th>1</th>\n",
       "      <th>2</th>\n",
       "      <th>3</th>\n",
       "      <th>4</th>\n",
       "      <th>5</th>\n",
       "      <th>6</th>\n",
       "      <th>7</th>\n",
       "      <th>8</th>\n",
       "      <th>9</th>\n",
       "      <th>...</th>\n",
       "      <th>20</th>\n",
       "      <th>21</th>\n",
       "      <th>22</th>\n",
       "      <th>23</th>\n",
       "      <th>24</th>\n",
       "      <th>25</th>\n",
       "      <th>26</th>\n",
       "      <th>27</th>\n",
       "      <th>28</th>\n",
       "      <th>29</th>\n",
       "    </tr>\n",
       "  </thead>\n",
       "  <tbody>\n",
       "    <tr>\n",
       "      <th>0</th>\n",
       "      <td>1.610921</td>\n",
       "      <td>1.631063</td>\n",
       "      <td>1.619263</td>\n",
       "      <td>1.771444</td>\n",
       "      <td>1.594442</td>\n",
       "      <td>1.702881</td>\n",
       "      <td>1.608276</td>\n",
       "      <td>1.675008</td>\n",
       "      <td>1.583862</td>\n",
       "      <td>1.742961</td>\n",
       "      <td>...</td>\n",
       "      <td>1.613566</td>\n",
       "      <td>1.658122</td>\n",
       "      <td>1.695760</td>\n",
       "      <td>1.607463</td>\n",
       "      <td>1.632284</td>\n",
       "      <td>1.602987</td>\n",
       "      <td>1.621908</td>\n",
       "      <td>1.597697</td>\n",
       "      <td>1.720581</td>\n",
       "      <td>1.593018</td>\n",
       "    </tr>\n",
       "    <tr>\n",
       "      <th>1</th>\n",
       "      <td>1.614176</td>\n",
       "      <td>1.620483</td>\n",
       "      <td>1.619263</td>\n",
       "      <td>1.765951</td>\n",
       "      <td>1.596069</td>\n",
       "      <td>1.700643</td>\n",
       "      <td>1.607869</td>\n",
       "      <td>1.666260</td>\n",
       "      <td>1.586914</td>\n",
       "      <td>1.773478</td>\n",
       "      <td>...</td>\n",
       "      <td>1.618449</td>\n",
       "      <td>1.663005</td>\n",
       "      <td>1.700236</td>\n",
       "      <td>1.610311</td>\n",
       "      <td>1.631266</td>\n",
       "      <td>1.603597</td>\n",
       "      <td>1.622314</td>\n",
       "      <td>1.593221</td>\n",
       "      <td>1.707357</td>\n",
       "      <td>1.593628</td>\n",
       "    </tr>\n",
       "    <tr>\n",
       "      <th>2</th>\n",
       "      <td>1.609904</td>\n",
       "      <td>1.624349</td>\n",
       "      <td>1.617432</td>\n",
       "      <td>1.764526</td>\n",
       "      <td>1.598714</td>\n",
       "      <td>1.700439</td>\n",
       "      <td>1.603800</td>\n",
       "      <td>1.675618</td>\n",
       "      <td>1.585897</td>\n",
       "      <td>1.763102</td>\n",
       "      <td>...</td>\n",
       "      <td>1.617635</td>\n",
       "      <td>1.659139</td>\n",
       "      <td>1.694132</td>\n",
       "      <td>1.600749</td>\n",
       "      <td>1.636963</td>\n",
       "      <td>1.607666</td>\n",
       "      <td>1.627197</td>\n",
       "      <td>1.597290</td>\n",
       "      <td>1.700439</td>\n",
       "      <td>1.596069</td>\n",
       "    </tr>\n",
       "    <tr>\n",
       "      <th>3</th>\n",
       "      <td>1.612752</td>\n",
       "      <td>1.623739</td>\n",
       "      <td>1.618449</td>\n",
       "      <td>1.764730</td>\n",
       "      <td>1.584880</td>\n",
       "      <td>1.709391</td>\n",
       "      <td>1.602987</td>\n",
       "      <td>1.657104</td>\n",
       "      <td>1.587728</td>\n",
       "      <td>1.747233</td>\n",
       "      <td>...</td>\n",
       "      <td>1.614176</td>\n",
       "      <td>1.653442</td>\n",
       "      <td>1.706340</td>\n",
       "      <td>1.599731</td>\n",
       "      <td>1.628825</td>\n",
       "      <td>1.605632</td>\n",
       "      <td>1.626180</td>\n",
       "      <td>1.597697</td>\n",
       "      <td>1.701457</td>\n",
       "      <td>1.592000</td>\n",
       "    </tr>\n",
       "    <tr>\n",
       "      <th>4</th>\n",
       "      <td>1.608073</td>\n",
       "      <td>1.623942</td>\n",
       "      <td>1.620483</td>\n",
       "      <td>1.760661</td>\n",
       "      <td>1.590576</td>\n",
       "      <td>1.707967</td>\n",
       "      <td>1.605225</td>\n",
       "      <td>1.667480</td>\n",
       "      <td>1.586914</td>\n",
       "      <td>1.747437</td>\n",
       "      <td>...</td>\n",
       "      <td>1.617432</td>\n",
       "      <td>1.644694</td>\n",
       "      <td>1.683553</td>\n",
       "      <td>1.603190</td>\n",
       "      <td>1.630859</td>\n",
       "      <td>1.605428</td>\n",
       "      <td>1.620076</td>\n",
       "      <td>1.596883</td>\n",
       "      <td>1.714071</td>\n",
       "      <td>1.597290</td>\n",
       "    </tr>\n",
       "    <tr>\n",
       "      <th>...</th>\n",
       "      <td>...</td>\n",
       "      <td>...</td>\n",
       "      <td>...</td>\n",
       "      <td>...</td>\n",
       "      <td>...</td>\n",
       "      <td>...</td>\n",
       "      <td>...</td>\n",
       "      <td>...</td>\n",
       "      <td>...</td>\n",
       "      <td>...</td>\n",
       "      <td>...</td>\n",
       "      <td>...</td>\n",
       "      <td>...</td>\n",
       "      <td>...</td>\n",
       "      <td>...</td>\n",
       "      <td>...</td>\n",
       "      <td>...</td>\n",
       "      <td>...</td>\n",
       "      <td>...</td>\n",
       "      <td>...</td>\n",
       "      <td>...</td>\n",
       "    </tr>\n",
       "    <tr>\n",
       "      <th>3995</th>\n",
       "      <td>1.626587</td>\n",
       "      <td>1.630452</td>\n",
       "      <td>1.618042</td>\n",
       "      <td>1.777344</td>\n",
       "      <td>1.589966</td>\n",
       "      <td>1.712850</td>\n",
       "      <td>1.612549</td>\n",
       "      <td>1.671956</td>\n",
       "      <td>1.587931</td>\n",
       "      <td>1.739502</td>\n",
       "      <td>...</td>\n",
       "      <td>1.622314</td>\n",
       "      <td>1.657511</td>\n",
       "      <td>1.711222</td>\n",
       "      <td>1.607869</td>\n",
       "      <td>1.624552</td>\n",
       "      <td>1.619263</td>\n",
       "      <td>1.632487</td>\n",
       "      <td>1.602173</td>\n",
       "      <td>1.721191</td>\n",
       "      <td>1.602173</td>\n",
       "    </tr>\n",
       "    <tr>\n",
       "      <th>3996</th>\n",
       "      <td>1.624146</td>\n",
       "      <td>1.623739</td>\n",
       "      <td>1.616414</td>\n",
       "      <td>1.772461</td>\n",
       "      <td>1.595662</td>\n",
       "      <td>1.715495</td>\n",
       "      <td>1.612142</td>\n",
       "      <td>1.670532</td>\n",
       "      <td>1.591797</td>\n",
       "      <td>1.738281</td>\n",
       "      <td>...</td>\n",
       "      <td>1.623739</td>\n",
       "      <td>1.661987</td>\n",
       "      <td>1.687622</td>\n",
       "      <td>1.616211</td>\n",
       "      <td>1.632284</td>\n",
       "      <td>1.613159</td>\n",
       "      <td>1.628825</td>\n",
       "      <td>1.604614</td>\n",
       "      <td>1.724243</td>\n",
       "      <td>1.592204</td>\n",
       "    </tr>\n",
       "    <tr>\n",
       "      <th>3997</th>\n",
       "      <td>1.623739</td>\n",
       "      <td>1.634318</td>\n",
       "      <td>1.619059</td>\n",
       "      <td>1.771647</td>\n",
       "      <td>1.596273</td>\n",
       "      <td>1.714478</td>\n",
       "      <td>1.610311</td>\n",
       "      <td>1.667684</td>\n",
       "      <td>1.595256</td>\n",
       "      <td>1.757812</td>\n",
       "      <td>...</td>\n",
       "      <td>1.625163</td>\n",
       "      <td>1.660156</td>\n",
       "      <td>1.697795</td>\n",
       "      <td>1.618245</td>\n",
       "      <td>1.629435</td>\n",
       "      <td>1.612956</td>\n",
       "      <td>1.628418</td>\n",
       "      <td>1.599935</td>\n",
       "      <td>1.720581</td>\n",
       "      <td>1.597493</td>\n",
       "    </tr>\n",
       "    <tr>\n",
       "      <th>3998</th>\n",
       "      <td>1.623128</td>\n",
       "      <td>1.630859</td>\n",
       "      <td>1.614176</td>\n",
       "      <td>1.772054</td>\n",
       "      <td>1.596680</td>\n",
       "      <td>1.701050</td>\n",
       "      <td>1.616007</td>\n",
       "      <td>1.668294</td>\n",
       "      <td>1.594645</td>\n",
       "      <td>1.750488</td>\n",
       "      <td>...</td>\n",
       "      <td>1.626383</td>\n",
       "      <td>1.663818</td>\n",
       "      <td>1.690267</td>\n",
       "      <td>1.613770</td>\n",
       "      <td>1.632690</td>\n",
       "      <td>1.610921</td>\n",
       "      <td>1.628215</td>\n",
       "      <td>1.604818</td>\n",
       "      <td>1.710205</td>\n",
       "      <td>1.595866</td>\n",
       "    </tr>\n",
       "    <tr>\n",
       "      <th>3999</th>\n",
       "      <td>1.624146</td>\n",
       "      <td>1.627808</td>\n",
       "      <td>1.615194</td>\n",
       "      <td>1.752930</td>\n",
       "      <td>1.593628</td>\n",
       "      <td>1.708984</td>\n",
       "      <td>1.616211</td>\n",
       "      <td>1.669312</td>\n",
       "      <td>1.595662</td>\n",
       "      <td>1.758016</td>\n",
       "      <td>...</td>\n",
       "      <td>1.627401</td>\n",
       "      <td>1.654460</td>\n",
       "      <td>1.707357</td>\n",
       "      <td>1.607869</td>\n",
       "      <td>1.636353</td>\n",
       "      <td>1.615397</td>\n",
       "      <td>1.625366</td>\n",
       "      <td>1.608073</td>\n",
       "      <td>1.705933</td>\n",
       "      <td>1.598307</td>\n",
       "    </tr>\n",
       "  </tbody>\n",
       "</table>\n",
       "<p>4000 rows × 30 columns</p>\n",
       "</div>"
      ],
      "text/plain": [
       "            0         1         2         3         4         5         6   \\\n",
       "0     1.610921  1.631063  1.619263  1.771444  1.594442  1.702881  1.608276   \n",
       "1     1.614176  1.620483  1.619263  1.765951  1.596069  1.700643  1.607869   \n",
       "2     1.609904  1.624349  1.617432  1.764526  1.598714  1.700439  1.603800   \n",
       "3     1.612752  1.623739  1.618449  1.764730  1.584880  1.709391  1.602987   \n",
       "4     1.608073  1.623942  1.620483  1.760661  1.590576  1.707967  1.605225   \n",
       "...        ...       ...       ...       ...       ...       ...       ...   \n",
       "3995  1.626587  1.630452  1.618042  1.777344  1.589966  1.712850  1.612549   \n",
       "3996  1.624146  1.623739  1.616414  1.772461  1.595662  1.715495  1.612142   \n",
       "3997  1.623739  1.634318  1.619059  1.771647  1.596273  1.714478  1.610311   \n",
       "3998  1.623128  1.630859  1.614176  1.772054  1.596680  1.701050  1.616007   \n",
       "3999  1.624146  1.627808  1.615194  1.752930  1.593628  1.708984  1.616211   \n",
       "\n",
       "            7         8         9   ...        20        21        22  \\\n",
       "0     1.675008  1.583862  1.742961  ...  1.613566  1.658122  1.695760   \n",
       "1     1.666260  1.586914  1.773478  ...  1.618449  1.663005  1.700236   \n",
       "2     1.675618  1.585897  1.763102  ...  1.617635  1.659139  1.694132   \n",
       "3     1.657104  1.587728  1.747233  ...  1.614176  1.653442  1.706340   \n",
       "4     1.667480  1.586914  1.747437  ...  1.617432  1.644694  1.683553   \n",
       "...        ...       ...       ...  ...       ...       ...       ...   \n",
       "3995  1.671956  1.587931  1.739502  ...  1.622314  1.657511  1.711222   \n",
       "3996  1.670532  1.591797  1.738281  ...  1.623739  1.661987  1.687622   \n",
       "3997  1.667684  1.595256  1.757812  ...  1.625163  1.660156  1.697795   \n",
       "3998  1.668294  1.594645  1.750488  ...  1.626383  1.663818  1.690267   \n",
       "3999  1.669312  1.595662  1.758016  ...  1.627401  1.654460  1.707357   \n",
       "\n",
       "            23        24        25        26        27        28        29  \n",
       "0     1.607463  1.632284  1.602987  1.621908  1.597697  1.720581  1.593018  \n",
       "1     1.610311  1.631266  1.603597  1.622314  1.593221  1.707357  1.593628  \n",
       "2     1.600749  1.636963  1.607666  1.627197  1.597290  1.700439  1.596069  \n",
       "3     1.599731  1.628825  1.605632  1.626180  1.597697  1.701457  1.592000  \n",
       "4     1.603190  1.630859  1.605428  1.620076  1.596883  1.714071  1.597290  \n",
       "...        ...       ...       ...       ...       ...       ...       ...  \n",
       "3995  1.607869  1.624552  1.619263  1.632487  1.602173  1.721191  1.602173  \n",
       "3996  1.616211  1.632284  1.613159  1.628825  1.604614  1.724243  1.592204  \n",
       "3997  1.618245  1.629435  1.612956  1.628418  1.599935  1.720581  1.597493  \n",
       "3998  1.613770  1.632690  1.610921  1.628215  1.604818  1.710205  1.595866  \n",
       "3999  1.607869  1.636353  1.615397  1.625366  1.608073  1.705933  1.598307  \n",
       "\n",
       "[4000 rows x 30 columns]"
      ]
     },
     "execution_count": 676,
     "metadata": {},
     "output_type": "execute_result"
    }
   ],
   "source": [
    "df = pd.DataFrame(data)\n",
    "#df.columns = lista\n",
    "df"
   ]
  },
  {
   "cell_type": "code",
   "execution_count": 677,
   "id": "06de66a5",
   "metadata": {},
   "outputs": [
    {
     "data": {
      "text/plain": [
       "0       1.639377\n",
       "1       1.640042\n",
       "2       1.639106\n",
       "3       1.638611\n",
       "4       1.638340\n",
       "          ...   \n",
       "3995    1.644226\n",
       "3996    1.643738\n",
       "3997    1.644185\n",
       "3998    1.643473\n",
       "3999    1.643256\n",
       "Length: 4000, dtype: float64"
      ]
     },
     "execution_count": 677,
     "metadata": {},
     "output_type": "execute_result"
    }
   ],
   "source": [
    "s355 = df.mean(axis=1)\n",
    "s355"
   ]
  },
  {
   "cell_type": "markdown",
   "id": "cc5e92c1",
   "metadata": {},
   "source": [
    "# Applying corrections to signal data"
   ]
  },
  {
   "cell_type": "code",
   "execution_count": 678,
   "id": "d71cc5b9",
   "metadata": {},
   "outputs": [
    {
     "data": {
      "image/png": "[encoded data removed]",
      "text/plain": [
       "<Figure size 432x288 with 1 Axes>"
      ]
     },
     "metadata": {
      "needs_background": "light"
     },
     "output_type": "display_data"
    }
   ],
   "source": [
    "plt.plot(s355, alt*1e-3)\n",
    "plt.grid(True)\n",
    "plt.ylabel('Altitude (km)')\n",
    "plt.xlabel('Signal [a. u.]')\n",
    "plt.ylim(0, 4)\n",
    "plt.savefig('fig1', dpi=200)"
   ]
  },
  {
   "cell_type": "markdown",
   "id": "e0c32f9d",
   "metadata": {},
   "source": [
    "## Picture for $log(P r^2)$"
   ]
  },
  {
   "cell_type": "code",
   "execution_count": 679,
   "id": "34d56787",
   "metadata": {},
   "outputs": [
    {
     "data": {
      "image/png": "[encoded data removed]",
      "text/plain": [
       "<Figure size 432x288 with 1 Axes>"
      ]
     },
     "metadata": {
      "needs_background": "light"
     },
     "output_type": "display_data"
    }
   ],
   "source": [
    "plt.plot(np.log(s355*alt*alt), alt*1e-3)\n",
    "plt.grid(True)\n",
    "plt.legend(['355 nm'])\n",
    "plt.ylabel('Altitude (km)')\n",
    "plt.xlabel('Log Range Corrected Signal [a. u.]')\n",
    "plt.ylim(0, 15)\n",
    "plt.savefig('fig3', dpi=200)"
   ]
  },
  {
   "cell_type": "markdown",
   "id": "6e262254",
   "metadata": {},
   "source": [
    "# Read temperature and pressure data"
   ]
  },
  {
   "cell_type": "markdown",
   "id": "519f1148",
   "metadata": {},
   "source": [
    "## Usando perfil artificial"
   ]
  },
  {
   "cell_type": "markdown",
   "id": "89541663",
   "metadata": {},
   "source": [
    "z = alt\n",
    "Pair = read[0]['P0']*np.exp(-(z-100)/8e3)    # H aproximadamente 8km\n",
    "Tair = read[0]['T0'] - (9.8*1e-3)*z    # 6.5 lapse rate"
   ]
  },
  {
   "cell_type": "markdown",
   "id": "9fd26070",
   "metadata": {},
   "source": [
    "Pair *= 100\n",
    "Pair"
   ]
  },
  {
   "cell_type": "markdown",
   "id": "04ec380a",
   "metadata": {
    "scrolled": true
   },
   "source": [
    "plt.plot(Pair, alt*1e-3)\n",
    "plt.grid(True)\n",
    "plt.xlabel('Pressure [pa]')\n",
    "plt.ylabel('Altitude [km]')\n",
    "plt.ylim(0, 15)\n",
    "plt.savefig('fig4', dpi=200)"
   ]
  },
  {
   "cell_type": "markdown",
   "id": "89a0656d",
   "metadata": {},
   "source": [
    "Tair = read[0]['T0']+273.15 -0.006666666666668182*alt[:int(12000/7.5)]\n",
    "Tair_p = Tair[-1]*np.ones(len(alt[int(12000/7.5):]))\n",
    "Tair = np.concatenate((Tair, Tair_p), axis=0)"
   ]
  },
  {
   "cell_type": "markdown",
   "id": "a3ee6737",
   "metadata": {
    "scrolled": true
   },
   "source": [
    "plt.plot(Tair, alt*1e-3)\n",
    "plt.grid(True)\n",
    "plt.xlabel('Temperature [K]')\n",
    "plt.ylabel('Altitude [km]')\n",
    "plt.ylim(0, 15)\n",
    "plt.savefig('fig5', dpi=200)"
   ]
  },
  {
   "cell_type": "markdown",
   "id": "fbe5be62",
   "metadata": {},
   "source": [
    "## Usando dados de Wyoming"
   ]
  },
  {
   "cell_type": "code",
   "execution_count": 680,
   "id": "f828009e",
   "metadata": {},
   "outputs": [],
   "source": [
    "PairTair = pd.read_fwf('PairTair.txt', header=None)"
   ]
  },
  {
   "cell_type": "code",
   "execution_count": 681,
   "id": "af166221",
   "metadata": {},
   "outputs": [
    {
     "data": {
      "text/html": [
       "<div>\n",
       "<style scoped>\n",
       "    .dataframe tbody tr th:only-of-type {\n",
       "        vertical-align: middle;\n",
       "    }\n",
       "\n",
       "    .dataframe tbody tr th {\n",
       "        vertical-align: top;\n",
       "    }\n",
       "\n",
       "    .dataframe thead th {\n",
       "        text-align: right;\n",
       "    }\n",
       "</style>\n",
       "<table border=\"1\" class=\"dataframe\">\n",
       "  <thead>\n",
       "    <tr style=\"text-align: right;\">\n",
       "      <th></th>\n",
       "      <th>0</th>\n",
       "      <th>1</th>\n",
       "      <th>2</th>\n",
       "      <th>3</th>\n",
       "      <th>4</th>\n",
       "      <th>5</th>\n",
       "      <th>6</th>\n",
       "      <th>7</th>\n",
       "      <th>8</th>\n",
       "      <th>9</th>\n",
       "      <th>10</th>\n",
       "    </tr>\n",
       "  </thead>\n",
       "  <tbody>\n",
       "    <tr>\n",
       "      <th>0</th>\n",
       "      <td>1001.0</td>\n",
       "      <td>84</td>\n",
       "      <td>28.8</td>\n",
       "      <td>22.8</td>\n",
       "      <td>70</td>\n",
       "      <td>17.81</td>\n",
       "      <td>80.0</td>\n",
       "      <td>1.0</td>\n",
       "      <td>301.9</td>\n",
       "      <td>354.7</td>\n",
       "      <td>305.1</td>\n",
       "    </tr>\n",
       "    <tr>\n",
       "      <th>1</th>\n",
       "      <td>1000.0</td>\n",
       "      <td>93</td>\n",
       "      <td>29.0</td>\n",
       "      <td>23.0</td>\n",
       "      <td>70</td>\n",
       "      <td>18.05</td>\n",
       "      <td>80.0</td>\n",
       "      <td>1.0</td>\n",
       "      <td>302.1</td>\n",
       "      <td>355.8</td>\n",
       "      <td>305.4</td>\n",
       "    </tr>\n",
       "    <tr>\n",
       "      <th>2</th>\n",
       "      <td>992.0</td>\n",
       "      <td>165</td>\n",
       "      <td>31.6</td>\n",
       "      <td>22.6</td>\n",
       "      <td>59</td>\n",
       "      <td>17.75</td>\n",
       "      <td>81.0</td>\n",
       "      <td>2.0</td>\n",
       "      <td>305.4</td>\n",
       "      <td>358.9</td>\n",
       "      <td>308.7</td>\n",
       "    </tr>\n",
       "    <tr>\n",
       "      <th>3</th>\n",
       "      <td>986.0</td>\n",
       "      <td>220</td>\n",
       "      <td>31.6</td>\n",
       "      <td>21.6</td>\n",
       "      <td>55</td>\n",
       "      <td>16.78</td>\n",
       "      <td>81.0</td>\n",
       "      <td>3.0</td>\n",
       "      <td>306.0</td>\n",
       "      <td>356.6</td>\n",
       "      <td>309.1</td>\n",
       "    </tr>\n",
       "    <tr>\n",
       "      <th>4</th>\n",
       "      <td>947.0</td>\n",
       "      <td>581</td>\n",
       "      <td>28.7</td>\n",
       "      <td>20.0</td>\n",
       "      <td>59</td>\n",
       "      <td>15.76</td>\n",
       "      <td>85.0</td>\n",
       "      <td>10.0</td>\n",
       "      <td>306.6</td>\n",
       "      <td>354.2</td>\n",
       "      <td>309.5</td>\n",
       "    </tr>\n",
       "  </tbody>\n",
       "</table>\n",
       "</div>"
      ],
      "text/plain": [
       "       0    1     2     3   4      5     6     7      8      9      10\n",
       "0  1001.0   84  28.8  22.8  70  17.81  80.0   1.0  301.9  354.7  305.1\n",
       "1  1000.0   93  29.0  23.0  70  18.05  80.0   1.0  302.1  355.8  305.4\n",
       "2   992.0  165  31.6  22.6  59  17.75  81.0   2.0  305.4  358.9  308.7\n",
       "3   986.0  220  31.6  21.6  55  16.78  81.0   3.0  306.0  356.6  309.1\n",
       "4   947.0  581  28.7  20.0  59  15.76  85.0  10.0  306.6  354.2  309.5"
      ]
     },
     "execution_count": 681,
     "metadata": {},
     "output_type": "execute_result"
    }
   ],
   "source": [
    "PairTair.head()"
   ]
  },
  {
   "cell_type": "code",
   "execution_count": 682,
   "id": "145d47d4",
   "metadata": {},
   "outputs": [],
   "source": [
    "Pair = 100*PairTair[0]\n",
    "Tair = 273.15 + PairTair[2]\n",
    "\n",
    "bg = np.mean(s355[-500:])  # O background eh a media dos ultimos 500 bins\n",
    "n_alt = alt[11:3145]    # Preciso ajustar o tamanho dos arrays de altitude e sinal\n",
    "                        # pra poder fazer a interpolacao\n",
    "n_s355 = s355[11:3145]  # '''\n",
    "\n",
    "x = PairTair[1]\n",
    "y = Pair\n",
    "f = interp1d(x, y, kind='cubic')\n",
    "newPair = f(n_alt)\n",
    "\n",
    "\n",
    "y = Tair\n",
    "f = interp1d(x, y, kind='cubic')\n",
    "newTair = f(n_alt)"
   ]
  },
  {
   "cell_type": "code",
   "execution_count": 683,
   "id": "dfba230c",
   "metadata": {
    "scrolled": true
   },
   "outputs": [
    {
     "data": {
      "image/png": "[encoded data removed]",
      "text/plain": [
       "<Figure size 432x288 with 1 Axes>"
      ]
     },
     "metadata": {
      "needs_background": "light"
     },
     "output_type": "display_data"
    }
   ],
   "source": [
    "plt.plot(newPair, n_alt*1e-3)\n",
    "plt.grid(True)\n",
    "plt.xlabel('Pressure [pa]')\n",
    "plt.ylabel('Altitude [km]')\n",
    "plt.ylim(0, 20)\n",
    "plt.savefig('Pres_profile', dpi=200)"
   ]
  },
  {
   "cell_type": "code",
   "execution_count": 684,
   "id": "f53feb55",
   "metadata": {},
   "outputs": [
    {
     "data": {
      "image/png": "[encoded data removed]",
      "text/plain": [
       "<Figure size 432x288 with 1 Axes>"
      ]
     },
     "metadata": {
      "needs_background": "light"
     },
     "output_type": "display_data"
    }
   ],
   "source": [
    "plt.plot(newTair, n_alt*1e-3)\n",
    "plt.grid(True)\n",
    "plt.xlabel('Temperature [K]')\n",
    "plt.ylabel('Altitude [km]')\n",
    "plt.ylim(0, 20)\n",
    "plt.savefig('Temp_profile', dpi=200)"
   ]
  },
  {
   "cell_type": "markdown",
   "id": "13b48f0a",
   "metadata": {},
   "source": [
    "# Molecular Scattering"
   ]
  },
  {
   "cell_type": "code",
   "execution_count": 685,
   "id": "cf917766",
   "metadata": {},
   "outputs": [],
   "source": [
    "%run alphabeta.ipynb"
   ]
  },
  {
   "cell_type": "code",
   "execution_count": 686,
   "id": "afab618f",
   "metadata": {},
   "outputs": [],
   "source": [
    "lambd = 355*1e-9\n",
    "co2 = 400\n",
    "\n",
    "\n",
    "alpha_mol, beta_mol, LR_mol = alphabeta(newPair, newTair, lambd, co2)"
   ]
  },
  {
   "cell_type": "code",
   "execution_count": 687,
   "id": "2bd2b346",
   "metadata": {},
   "outputs": [
    {
     "data": {
      "image/png": "[encoded data removed]",
      "text/plain": [
       "<Figure size 432x288 with 1 Axes>"
      ]
     },
     "metadata": {
      "needs_background": "light"
     },
     "output_type": "display_data"
    }
   ],
   "source": [
    "plt.plot(alpha_mol*1e6, n_alt*1e-3)\n",
    "plt.grid(True)\n",
    "plt.xlabel('alpha molecular [1/Mm]')\n",
    "plt.ylabel('Altitude [km]')\n",
    "plt.savefig('fig6', dpi=200)"
   ]
  },
  {
   "cell_type": "code",
   "execution_count": 688,
   "id": "c2acc4e6",
   "metadata": {},
   "outputs": [
    {
     "data": {
      "image/png": "[encoded data removed]",
      "text/plain": [
       "<Figure size 432x288 with 1 Axes>"
      ]
     },
     "metadata": {
      "needs_background": "light"
     },
     "output_type": "display_data"
    }
   ],
   "source": [
    "plt.plot(beta_mol*1e6, n_alt*1e-3)\n",
    "plt.grid(True)\n",
    "plt.xlabel('beta molecular [1/Mm 1/sr]')\n",
    "plt.ylabel('Altitude [km]')\n",
    "plt.savefig('fig7', dpi=200)"
   ]
  },
  {
   "cell_type": "markdown",
   "id": "c8874b8c",
   "metadata": {},
   "source": [
    "# Obtaining overlap"
   ]
  },
  {
   "cell_type": "code",
   "execution_count": 689,
   "id": "3ccf2685",
   "metadata": {},
   "outputs": [
    {
     "data": {
      "text/html": [
       "<div>\n",
       "<style scoped>\n",
       "    .dataframe tbody tr th:only-of-type {\n",
       "        vertical-align: middle;\n",
       "    }\n",
       "\n",
       "    .dataframe tbody tr th {\n",
       "        vertical-align: top;\n",
       "    }\n",
       "\n",
       "    .dataframe thead th {\n",
       "        text-align: right;\n",
       "    }\n",
       "</style>\n",
       "<table border=\"1\" class=\"dataframe\">\n",
       "  <thead>\n",
       "    <tr style=\"text-align: right;\">\n",
       "      <th></th>\n",
       "      <th>0</th>\n",
       "      <th>1</th>\n",
       "      <th>2</th>\n",
       "      <th>3</th>\n",
       "      <th>4</th>\n",
       "      <th>5</th>\n",
       "      <th>6</th>\n",
       "      <th>7</th>\n",
       "      <th>8</th>\n",
       "      <th>9</th>\n",
       "      <th>...</th>\n",
       "      <th>88</th>\n",
       "      <th>89</th>\n",
       "      <th>90</th>\n",
       "      <th>91</th>\n",
       "      <th>92</th>\n",
       "      <th>93</th>\n",
       "      <th>94</th>\n",
       "      <th>95</th>\n",
       "      <th>96</th>\n",
       "      <th>97</th>\n",
       "    </tr>\n",
       "  </thead>\n",
       "  <tbody>\n",
       "    <tr>\n",
       "      <th>0</th>\n",
       "      <td>0.000077</td>\n",
       "      <td>0.000090</td>\n",
       "      <td>0.000096</td>\n",
       "      <td>0.000059</td>\n",
       "      <td>0.000063</td>\n",
       "      <td>0.000068</td>\n",
       "      <td>0.000072</td>\n",
       "      <td>0.000096</td>\n",
       "      <td>0.000062</td>\n",
       "      <td>0.000070</td>\n",
       "      <td>...</td>\n",
       "      <td>0.000076</td>\n",
       "      <td>0.000058</td>\n",
       "      <td>0.000040</td>\n",
       "      <td>0.000047</td>\n",
       "      <td>0.000053</td>\n",
       "      <td>0.000042</td>\n",
       "      <td>0.000070</td>\n",
       "      <td>0.000101</td>\n",
       "      <td>0.000112</td>\n",
       "      <td>0.000300</td>\n",
       "    </tr>\n",
       "    <tr>\n",
       "      <th>1</th>\n",
       "      <td>0.000107</td>\n",
       "      <td>0.000121</td>\n",
       "      <td>0.000129</td>\n",
       "      <td>0.000083</td>\n",
       "      <td>0.000089</td>\n",
       "      <td>0.000095</td>\n",
       "      <td>0.000101</td>\n",
       "      <td>0.000131</td>\n",
       "      <td>0.000088</td>\n",
       "      <td>0.000098</td>\n",
       "      <td>...</td>\n",
       "      <td>0.000106</td>\n",
       "      <td>0.000080</td>\n",
       "      <td>0.000055</td>\n",
       "      <td>0.000065</td>\n",
       "      <td>0.000073</td>\n",
       "      <td>0.000059</td>\n",
       "      <td>0.000092</td>\n",
       "      <td>0.000134</td>\n",
       "      <td>0.000149</td>\n",
       "      <td>0.000397</td>\n",
       "    </tr>\n",
       "    <tr>\n",
       "      <th>2</th>\n",
       "      <td>0.000140</td>\n",
       "      <td>0.000156</td>\n",
       "      <td>0.000165</td>\n",
       "      <td>0.000110</td>\n",
       "      <td>0.000118</td>\n",
       "      <td>0.000126</td>\n",
       "      <td>0.000132</td>\n",
       "      <td>0.000168</td>\n",
       "      <td>0.000117</td>\n",
       "      <td>0.000131</td>\n",
       "      <td>...</td>\n",
       "      <td>0.000139</td>\n",
       "      <td>0.000105</td>\n",
       "      <td>0.000071</td>\n",
       "      <td>0.000085</td>\n",
       "      <td>0.000096</td>\n",
       "      <td>0.000078</td>\n",
       "      <td>0.000115</td>\n",
       "      <td>0.000169</td>\n",
       "      <td>0.000189</td>\n",
       "      <td>0.000502</td>\n",
       "    </tr>\n",
       "    <tr>\n",
       "      <th>3</th>\n",
       "      <td>0.000179</td>\n",
       "      <td>0.000195</td>\n",
       "      <td>0.000206</td>\n",
       "      <td>0.000143</td>\n",
       "      <td>0.000154</td>\n",
       "      <td>0.000164</td>\n",
       "      <td>0.000170</td>\n",
       "      <td>0.000212</td>\n",
       "      <td>0.000152</td>\n",
       "      <td>0.000170</td>\n",
       "      <td>...</td>\n",
       "      <td>0.000180</td>\n",
       "      <td>0.000135</td>\n",
       "      <td>0.000092</td>\n",
       "      <td>0.000110</td>\n",
       "      <td>0.000123</td>\n",
       "      <td>0.000101</td>\n",
       "      <td>0.000143</td>\n",
       "      <td>0.000209</td>\n",
       "      <td>0.000234</td>\n",
       "      <td>0.000621</td>\n",
       "    </tr>\n",
       "    <tr>\n",
       "      <th>4</th>\n",
       "      <td>0.000224</td>\n",
       "      <td>0.000240</td>\n",
       "      <td>0.000252</td>\n",
       "      <td>0.000181</td>\n",
       "      <td>0.000194</td>\n",
       "      <td>0.000206</td>\n",
       "      <td>0.000213</td>\n",
       "      <td>0.000260</td>\n",
       "      <td>0.000193</td>\n",
       "      <td>0.000216</td>\n",
       "      <td>...</td>\n",
       "      <td>0.000225</td>\n",
       "      <td>0.000169</td>\n",
       "      <td>0.000115</td>\n",
       "      <td>0.000138</td>\n",
       "      <td>0.000154</td>\n",
       "      <td>0.000127</td>\n",
       "      <td>0.000172</td>\n",
       "      <td>0.000251</td>\n",
       "      <td>0.000283</td>\n",
       "      <td>0.000751</td>\n",
       "    </tr>\n",
       "    <tr>\n",
       "      <th>...</th>\n",
       "      <td>...</td>\n",
       "      <td>...</td>\n",
       "      <td>...</td>\n",
       "      <td>...</td>\n",
       "      <td>...</td>\n",
       "      <td>...</td>\n",
       "      <td>...</td>\n",
       "      <td>...</td>\n",
       "      <td>...</td>\n",
       "      <td>...</td>\n",
       "      <td>...</td>\n",
       "      <td>...</td>\n",
       "      <td>...</td>\n",
       "      <td>...</td>\n",
       "      <td>...</td>\n",
       "      <td>...</td>\n",
       "      <td>...</td>\n",
       "      <td>...</td>\n",
       "      <td>...</td>\n",
       "      <td>...</td>\n",
       "      <td>...</td>\n",
       "    </tr>\n",
       "    <tr>\n",
       "      <th>1995</th>\n",
       "      <td>1.000000</td>\n",
       "      <td>1.000000</td>\n",
       "      <td>1.000000</td>\n",
       "      <td>1.000000</td>\n",
       "      <td>1.000000</td>\n",
       "      <td>1.000000</td>\n",
       "      <td>1.000000</td>\n",
       "      <td>1.000000</td>\n",
       "      <td>1.000000</td>\n",
       "      <td>1.000000</td>\n",
       "      <td>...</td>\n",
       "      <td>1.000000</td>\n",
       "      <td>1.000000</td>\n",
       "      <td>1.000000</td>\n",
       "      <td>1.000000</td>\n",
       "      <td>1.000000</td>\n",
       "      <td>1.000000</td>\n",
       "      <td>1.000000</td>\n",
       "      <td>1.000000</td>\n",
       "      <td>1.000000</td>\n",
       "      <td>1.000000</td>\n",
       "    </tr>\n",
       "    <tr>\n",
       "      <th>1996</th>\n",
       "      <td>1.000000</td>\n",
       "      <td>1.000000</td>\n",
       "      <td>1.000000</td>\n",
       "      <td>1.000000</td>\n",
       "      <td>1.000000</td>\n",
       "      <td>1.000000</td>\n",
       "      <td>1.000000</td>\n",
       "      <td>1.000000</td>\n",
       "      <td>1.000000</td>\n",
       "      <td>1.000000</td>\n",
       "      <td>...</td>\n",
       "      <td>1.000000</td>\n",
       "      <td>1.000000</td>\n",
       "      <td>1.000000</td>\n",
       "      <td>1.000000</td>\n",
       "      <td>1.000000</td>\n",
       "      <td>1.000000</td>\n",
       "      <td>1.000000</td>\n",
       "      <td>1.000000</td>\n",
       "      <td>1.000000</td>\n",
       "      <td>1.000000</td>\n",
       "    </tr>\n",
       "    <tr>\n",
       "      <th>1997</th>\n",
       "      <td>1.000000</td>\n",
       "      <td>1.000000</td>\n",
       "      <td>1.000000</td>\n",
       "      <td>1.000000</td>\n",
       "      <td>1.000000</td>\n",
       "      <td>1.000000</td>\n",
       "      <td>1.000000</td>\n",
       "      <td>1.000000</td>\n",
       "      <td>1.000000</td>\n",
       "      <td>1.000000</td>\n",
       "      <td>...</td>\n",
       "      <td>1.000000</td>\n",
       "      <td>1.000000</td>\n",
       "      <td>1.000000</td>\n",
       "      <td>1.000000</td>\n",
       "      <td>1.000000</td>\n",
       "      <td>1.000000</td>\n",
       "      <td>1.000000</td>\n",
       "      <td>1.000000</td>\n",
       "      <td>1.000000</td>\n",
       "      <td>1.000000</td>\n",
       "    </tr>\n",
       "    <tr>\n",
       "      <th>1998</th>\n",
       "      <td>1.000000</td>\n",
       "      <td>1.000000</td>\n",
       "      <td>1.000000</td>\n",
       "      <td>1.000000</td>\n",
       "      <td>1.000000</td>\n",
       "      <td>1.000000</td>\n",
       "      <td>1.000000</td>\n",
       "      <td>1.000000</td>\n",
       "      <td>1.000000</td>\n",
       "      <td>1.000000</td>\n",
       "      <td>...</td>\n",
       "      <td>1.000000</td>\n",
       "      <td>1.000000</td>\n",
       "      <td>1.000000</td>\n",
       "      <td>1.000000</td>\n",
       "      <td>1.000000</td>\n",
       "      <td>1.000000</td>\n",
       "      <td>1.000000</td>\n",
       "      <td>1.000000</td>\n",
       "      <td>1.000000</td>\n",
       "      <td>1.000000</td>\n",
       "    </tr>\n",
       "    <tr>\n",
       "      <th>1999</th>\n",
       "      <td>1.000000</td>\n",
       "      <td>1.000000</td>\n",
       "      <td>1.000000</td>\n",
       "      <td>1.000000</td>\n",
       "      <td>1.000000</td>\n",
       "      <td>1.000000</td>\n",
       "      <td>1.000000</td>\n",
       "      <td>1.000000</td>\n",
       "      <td>1.000000</td>\n",
       "      <td>1.000000</td>\n",
       "      <td>...</td>\n",
       "      <td>1.000000</td>\n",
       "      <td>1.000000</td>\n",
       "      <td>1.000000</td>\n",
       "      <td>1.000000</td>\n",
       "      <td>1.000000</td>\n",
       "      <td>1.000000</td>\n",
       "      <td>1.000000</td>\n",
       "      <td>1.000000</td>\n",
       "      <td>1.000000</td>\n",
       "      <td>1.000000</td>\n",
       "    </tr>\n",
       "  </tbody>\n",
       "</table>\n",
       "<p>2000 rows × 98 columns</p>\n",
       "</div>"
      ],
      "text/plain": [
       "            0         1         2         3         4         5         6   \\\n",
       "0     0.000077  0.000090  0.000096  0.000059  0.000063  0.000068  0.000072   \n",
       "1     0.000107  0.000121  0.000129  0.000083  0.000089  0.000095  0.000101   \n",
       "2     0.000140  0.000156  0.000165  0.000110  0.000118  0.000126  0.000132   \n",
       "3     0.000179  0.000195  0.000206  0.000143  0.000154  0.000164  0.000170   \n",
       "4     0.000224  0.000240  0.000252  0.000181  0.000194  0.000206  0.000213   \n",
       "...        ...       ...       ...       ...       ...       ...       ...   \n",
       "1995  1.000000  1.000000  1.000000  1.000000  1.000000  1.000000  1.000000   \n",
       "1996  1.000000  1.000000  1.000000  1.000000  1.000000  1.000000  1.000000   \n",
       "1997  1.000000  1.000000  1.000000  1.000000  1.000000  1.000000  1.000000   \n",
       "1998  1.000000  1.000000  1.000000  1.000000  1.000000  1.000000  1.000000   \n",
       "1999  1.000000  1.000000  1.000000  1.000000  1.000000  1.000000  1.000000   \n",
       "\n",
       "            7         8         9   ...        88        89        90  \\\n",
       "0     0.000096  0.000062  0.000070  ...  0.000076  0.000058  0.000040   \n",
       "1     0.000131  0.000088  0.000098  ...  0.000106  0.000080  0.000055   \n",
       "2     0.000168  0.000117  0.000131  ...  0.000139  0.000105  0.000071   \n",
       "3     0.000212  0.000152  0.000170  ...  0.000180  0.000135  0.000092   \n",
       "4     0.000260  0.000193  0.000216  ...  0.000225  0.000169  0.000115   \n",
       "...        ...       ...       ...  ...       ...       ...       ...   \n",
       "1995  1.000000  1.000000  1.000000  ...  1.000000  1.000000  1.000000   \n",
       "1996  1.000000  1.000000  1.000000  ...  1.000000  1.000000  1.000000   \n",
       "1997  1.000000  1.000000  1.000000  ...  1.000000  1.000000  1.000000   \n",
       "1998  1.000000  1.000000  1.000000  ...  1.000000  1.000000  1.000000   \n",
       "1999  1.000000  1.000000  1.000000  ...  1.000000  1.000000  1.000000   \n",
       "\n",
       "            91        92        93        94        95        96        97  \n",
       "0     0.000047  0.000053  0.000042  0.000070  0.000101  0.000112  0.000300  \n",
       "1     0.000065  0.000073  0.000059  0.000092  0.000134  0.000149  0.000397  \n",
       "2     0.000085  0.000096  0.000078  0.000115  0.000169  0.000189  0.000502  \n",
       "3     0.000110  0.000123  0.000101  0.000143  0.000209  0.000234  0.000621  \n",
       "4     0.000138  0.000154  0.000127  0.000172  0.000251  0.000283  0.000751  \n",
       "...        ...       ...       ...       ...       ...       ...       ...  \n",
       "1995  1.000000  1.000000  1.000000  1.000000  1.000000  1.000000  1.000000  \n",
       "1996  1.000000  1.000000  1.000000  1.000000  1.000000  1.000000  1.000000  \n",
       "1997  1.000000  1.000000  1.000000  1.000000  1.000000  1.000000  1.000000  \n",
       "1998  1.000000  1.000000  1.000000  1.000000  1.000000  1.000000  1.000000  \n",
       "1999  1.000000  1.000000  1.000000  1.000000  1.000000  1.000000  1.000000  \n",
       "\n",
       "[2000 rows x 98 columns]"
      ]
     },
     "execution_count": 689,
     "metadata": {},
     "output_type": "execute_result"
    }
   ],
   "source": [
    "overlap = pd.read_csv('overlap_narrow.csv', header=None)\n",
    "overlap"
   ]
  },
  {
   "cell_type": "code",
   "execution_count": 690,
   "id": "cbddce00",
   "metadata": {
    "scrolled": false
   },
   "outputs": [
    {
     "data": {
      "text/plain": [
       "[<matplotlib.lines.Line2D at 0x7f8082288400>]"
      ]
     },
     "execution_count": 690,
     "metadata": {},
     "output_type": "execute_result"
    },
    {
     "data": {
      "image/png": "[encoded data removed]",
      "text/plain": [
       "<Figure size 432x288 with 1 Axes>"
      ]
     },
     "metadata": {
      "needs_background": "light"
     },
     "output_type": "display_data"
    }
   ],
   "source": [
    "plt.plot(overlap[0])"
   ]
  },
  {
   "cell_type": "markdown",
   "id": "0fef2ae8",
   "metadata": {},
   "source": [
    "# built the simulated molecular signal"
   ]
  },
  {
   "cell_type": "code",
   "execution_count": 691,
   "id": "a5d7baee",
   "metadata": {},
   "outputs": [],
   "source": [
    "s355 = s355 - bg          # Subtraindo o background\n",
    "s355 = np.concatenate((s355[:2000]/overlap[0], s355[2000:]), axis=0)   #Dividindo pelo overlap\n",
    "n_alt = alt[11:3145]\n",
    "n_s355 = s355[11:3145]"
   ]
  },
  {
   "cell_type": "code",
   "execution_count": 692,
   "id": "1dcd4479",
   "metadata": {},
   "outputs": [],
   "source": [
    "meteo_alt = n_alt"
   ]
  },
  {
   "cell_type": "code",
   "execution_count": 693,
   "id": "ff4983fb",
   "metadata": {},
   "outputs": [],
   "source": [
    "model = (beta_mol * np.exp(-2*integrate.cumtrapz(alpha_mol, meteo_alt, initial=0))) / meteo_alt**2"
   ]
  },
  {
   "cell_type": "code",
   "execution_count": 694,
   "id": "09652765",
   "metadata": {},
   "outputs": [
    {
     "data": {
      "text/plain": [
       "(1e-10, 1000000000000000.0)"
      ]
     },
     "execution_count": 694,
     "metadata": {},
     "output_type": "execute_result"
    },
    {
     "data": {
      "image/png": "[encoded data removed]",
      "text/plain": [
       "<Figure size 432x288 with 1 Axes>"
      ]
     },
     "metadata": {
      "needs_background": "light"
     },
     "output_type": "display_data"
    }
   ],
   "source": [
    "plt.semilogx(model*meteo_alt*meteo_alt, meteo_alt*1e-3)\n",
    "plt.scatter((n_s355)*n_alt*n_alt, n_alt*1e-3, s=0.5, c='orange')\n",
    "plt.grid(True)\n",
    "plt.ylabel('Altitude [km]')\n",
    "plt.xlim(1e-10, 1e15)"
   ]
  },
  {
   "cell_type": "markdown",
   "id": "ffc53f2d",
   "metadata": {},
   "source": [
    "## Determinando a região do ajuste"
   ]
  },
  {
   "cell_type": "code",
   "execution_count": 695,
   "id": "6b403b5b",
   "metadata": {},
   "outputs": [],
   "source": [
    "alt_min = 8.   # km\n",
    "alt_max = 15   # km\n",
    "\n",
    "index_min = int(alt_min*1e3/7.5)\n",
    "index_max = int(alt_max*1e3/7.5)"
   ]
  },
  {
   "cell_type": "code",
   "execution_count": 696,
   "id": "0b7492b0",
   "metadata": {},
   "outputs": [
    {
     "data": {
      "text/plain": [
       "Text(0, 0.5, 'Measured signal')"
      ]
     },
     "execution_count": 696,
     "metadata": {},
     "output_type": "execute_result"
    },
    {
     "data": {
      "image/png": "[encoded data removed]",
      "text/plain": [
       "<Figure size 432x288 with 1 Axes>"
      ]
     },
     "metadata": {
      "needs_background": "light"
     },
     "output_type": "display_data"
    }
   ],
   "source": [
    "plt.scatter(model[index_min:index_max], s355[index_min:index_max], facecolors = 'none', edgecolors = 'orange')\n",
    "plt.grid(True)\n",
    "plt.xlabel('Model molecular')\n",
    "plt.ylabel('Measured signal')"
   ]
  },
  {
   "cell_type": "code",
   "execution_count": 697,
   "id": "302fc591",
   "metadata": {},
   "outputs": [
    {
     "data": {
      "text/plain": [
       "(array([ 2.34200664e+12, -2.28336310e-03]),\n",
       " array([[ 3.94527044e+19, -3.63144047e+05],\n",
       "        [-3.63144047e+05,  4.84599391e-09]]))"
      ]
     },
     "execution_count": 697,
     "metadata": {},
     "output_type": "execute_result"
    }
   ],
   "source": [
    "f = lambda x, a, b: a*x + b\n",
    "\n",
    "fit = optimize.curve_fit(f, model[index_min:index_max], n_s355[index_min:index_max], p0=(1e13, 116))\n",
    "\n",
    "a = fit[0][0]\n",
    "b = fit[0][1]\n",
    "\n",
    "fit"
   ]
  },
  {
   "cell_type": "code",
   "execution_count": 698,
   "id": "eeeb2f23",
   "metadata": {},
   "outputs": [
    {
     "data": {
      "text/plain": [
       "Text(0, 0.5, 'Measured signal')"
      ]
     },
     "execution_count": 698,
     "metadata": {},
     "output_type": "execute_result"
    },
    {
     "data": {
      "image/png": "[encoded data removed]",
      "text/plain": [
       "<Figure size 432x288 with 1 Axes>"
      ]
     },
     "metadata": {
      "needs_background": "light"
     },
     "output_type": "display_data"
    }
   ],
   "source": [
    "plt.scatter(model[index_min:index_max], n_s355[index_min:index_max], facecolors = 'none', edgecolors = 'orange')\n",
    "plt.plot(model[index_min:index_max], f(model[index_min:index_max], a, b))\n",
    "plt.grid(True)\n",
    "plt.xlabel('Model molecular')\n",
    "plt.ylabel('Measured signal')"
   ]
  },
  {
   "cell_type": "code",
   "execution_count": 699,
   "id": "a2d6192b",
   "metadata": {
    "scrolled": true
   },
   "outputs": [
    {
     "data": {
      "image/png": "[encoded data removed]",
      "text/plain": [
       "<Figure size 432x288 with 1 Axes>"
      ]
     },
     "metadata": {
      "needs_background": "light"
     },
     "output_type": "display_data"
    }
   ],
   "source": [
    "plt.semilogx(model*meteo_alt*meteo_alt, meteo_alt*1e-3)\n",
    "plt.scatter((n_s355)*n_alt*n_alt, n_alt*1e-3, c='orange', s=0.5)\n",
    "plt.semilogx(model*a*meteo_alt*meteo_alt, meteo_alt*1e-3, c='green')\n",
    "plt.grid(True)\n",
    "plt.ylabel('Altitude [km]')\n",
    "plt.xlim(1e-10, 1e15)\n",
    "plt.savefig('fig8', dpi=200)"
   ]
  },
  {
   "cell_type": "code",
   "execution_count": 700,
   "id": "2f3eadb4",
   "metadata": {},
   "outputs": [],
   "source": [
    "%run fernald_new1.ipynb\n",
    "\n",
    "# Devemos sempre entrar com vetores coluna no algoritmo de inversao\n",
    "\n",
    "zref = np.array([6*1e3, 14*1e3])\n",
    "LR = 28.\n",
    "\n",
    "z = n_alt[..., None]\n",
    "pr = n_s355[..., None]\n",
    "ref = zref[..., None]\n",
    "lambd = 355*1e-9\n",
    "LidarRatio = LR\n",
    "Pair = newPair[..., None]\n",
    "Tair = newTair[..., None]\n",
    "\n",
    "\n",
    "beta_par, alpha_par, LR_par, model_mol, ab_fit = fernald_new1(z,pr,ref,lambd,LidarRatio,Pair,Tair)"
   ]
  },
  {
   "cell_type": "markdown",
   "id": "b3e816a6",
   "metadata": {},
   "source": [
    "## Devemos restringir o plot a partir de 750m porque antes o overlap varia mto"
   ]
  },
  {
   "cell_type": "code",
   "execution_count": 701,
   "id": "0de13ef6",
   "metadata": {},
   "outputs": [],
   "source": [
    "lim = 100\n",
    "beta_par['aer'] = beta_par['aer'][lim:]\n",
    "beta_par['mol'] = beta_par['mol'][lim:]\n",
    "beta_par['tot'] = beta_par['tot'][lim:]\n",
    "n_alt = n_alt[lim:]"
   ]
  },
  {
   "cell_type": "code",
   "execution_count": 705,
   "id": "c7bc860c",
   "metadata": {},
   "outputs": [
    {
     "data": {
      "image/png": "[encoded data removed]",
      "text/plain": [
       "<Figure size 432x288 with 1 Axes>"
      ]
     },
     "metadata": {
      "needs_background": "light"
     },
     "output_type": "display_data"
    }
   ],
   "source": [
    "plt.plot((beta_par['aer'])*1e6, n_alt*1e-3)\n",
    "plt.plot(beta_par['mol']*1e6, n_alt*1e-3)\n",
    "plt.plot(beta_par['tot']*1e6, n_alt*1e-3)\n",
    "plt.grid(True)\n",
    "plt.legend(['aer', 'mol', 'tot'])\n",
    "plt.xlim(-5, 14)\n",
    "plt.ylim(0, 10)\n",
    "plt.xlabel('beta [1/Mm sr]')\n",
    "plt.ylabel('Altitude [km]')\n",
    "plt.savefig('backscatter', dpi=200)"
   ]
  }
 ],
 "metadata": {
  "kernelspec": {
   "display_name": "Python 3 (ipykernel)",
   "language": "python",
   "name": "python3"
  },
  "language_info": {
   "codemirror_mode": {
    "name": "ipython",
    "version": 3
   },
   "file_extension": ".py",
   "mimetype": "text/x-python",
   "name": "python",
   "nbconvert_exporter": "python",
   "pygments_lexer": "ipython3",
   "version": "3.9.7"
  }
 },
 "nbformat": 4,
 "nbformat_minor": 5
}
