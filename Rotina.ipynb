{
 "cells": [
  {
   "cell_type": "code",
   "execution_count": 1,
   "id": "76c16d01",
   "metadata": {},
   "outputs": [
    {
     "ename": "ModuleNotFoundError",
     "evalue": "No module named 'xarray'",
     "output_type": "error",
     "traceback": [
      "\u001b[0;31m---------------------------------------------------------------------------\u001b[0m",
      "\u001b[0;31mModuleNotFoundError\u001b[0m                       Traceback (most recent call last)",
      "Input \u001b[0;32mIn [1]\u001b[0m, in \u001b[0;36m<cell line: 2>\u001b[0;34m()\u001b[0m\n\u001b[1;32m      1\u001b[0m \u001b[38;5;28;01mimport\u001b[39;00m \u001b[38;5;21;01mnumpy\u001b[39;00m \u001b[38;5;28;01mas\u001b[39;00m \u001b[38;5;21;01mnp\u001b[39;00m\n\u001b[0;32m----> 2\u001b[0m \u001b[38;5;28;01mimport\u001b[39;00m \u001b[38;5;21;01mxarray\u001b[39;00m \u001b[38;5;28;01mas\u001b[39;00m \u001b[38;5;21;01mxr\u001b[39;00m\n\u001b[1;32m      3\u001b[0m \u001b[38;5;28;01mimport\u001b[39;00m \u001b[38;5;21;01mmatplotlib\u001b[39;00m\u001b[38;5;21;01m.\u001b[39;00m\u001b[38;5;21;01mpyplot\u001b[39;00m \u001b[38;5;28;01mas\u001b[39;00m \u001b[38;5;21;01mplt\u001b[39;00m\n\u001b[1;32m      4\u001b[0m \u001b[38;5;28;01mimport\u001b[39;00m \u001b[38;5;21;01mpandas\u001b[39;00m \u001b[38;5;28;01mas\u001b[39;00m \u001b[38;5;21;01mpd\u001b[39;00m\n",
      "\u001b[0;31mModuleNotFoundError\u001b[0m: No module named 'xarray'"
     ]
    }
   ],
   "source": [
    "import numpy as np\n",
    "import xarray as xr\n",
    "import matplotlib.pyplot as plt\n",
    "import pandas as pd\n",
    "from scipy import integrate \n",
    "from scipy import optimize\n",
    "from scipy.interpolate import interp1d\n",
    "from datetime import datetime\n",
    "from metpy.units import units\n",
    "from siphon.simplewebservice.wyoming import WyomingUpperAir"
   ]
  },
  {
   "cell_type": "markdown",
   "id": "39cb6795",
   "metadata": {},
   "source": [
    "# Read data"
   ]
  },
  {
   "cell_type": "code",
   "execution_count": null,
   "id": "6e91db67",
   "metadata": {},
   "outputs": [],
   "source": [
    "%run profile_read_py.py"
   ]
  },
  {
   "cell_type": "code",
   "execution_count": null,
   "id": "4c3661db",
   "metadata": {},
   "outputs": [],
   "source": [
    "arquivo = '/Volumes/GoogleDrive/My Drive/Estudos/IC/Henrique/Programs/RMlicelPython/RM1183023.324' #30 agosto 2011\n",
    "\n",
    "read = profile_read(arquivo)\n",
    "phy  = read[1]\n",
    "\n",
    "df = pd.DataFrame(phy)\n",
    "\n",
    "def SetHeader(df):\n",
    "    # Aqui é um jeito provisório de fazer o header\n",
    "\n",
    "    lista = []\n",
    "    for i in range(len(read[0]['ch']['active'])):\n",
    "        wlen = str(read[0]['ch']['wlen'][i])\n",
    "        pol = str(read[0]['ch']['pol'][i])\n",
    "        photon = read[0]['ch']['photons'][i]\n",
    "        an = 'analog' if photon == 0 else 'photon'\n",
    "        tr = read[0]['ch']['tr'][i]\n",
    "        lista.append(wlen + ' ' + pol + ' ' + an + ' ' + tr[-1])\n",
    "\n",
    "    ###############################################\n",
    "\n",
    "\n",
    "    df.columns = lista\n",
    "    alt = 7.5*(np.array(df.index) + 1)\n",
    "\n",
    "    df['alt'] = alt\n",
    "    s355 = df['355 o analog 0']\n",
    "\n",
    "    df.set_index('alt', inplace=True)\n",
    "    \n",
    "    return\n",
    "\n",
    "SetHeader(df)"
   ]
  },
  {
   "cell_type": "code",
   "execution_count": null,
   "id": "184a32fb",
   "metadata": {
    "scrolled": true
   },
   "outputs": [],
   "source": [
    "plot = df[:3000].plot(grid=True, subplots=True, title='First test plot')"
   ]
  },
  {
   "cell_type": "markdown",
   "id": "419533a5",
   "metadata": {},
   "source": [
    "# Reading multiple data (mean signal)"
   ]
  },
  {
   "cell_type": "markdown",
   "id": "b880068f",
   "metadata": {},
   "source": [
    "The idea here is to iterate over the data files in a month directory."
   ]
  },
  {
   "cell_type": "code",
   "execution_count": null,
   "id": "e68b722b",
   "metadata": {},
   "outputs": [],
   "source": [
    "import os\n",
    "\n",
    "directory = '/Volumes/GoogleDrive/My Drive/Estudos/IC/Henrique/Programs/RMlicelPython/30'\n",
    "\n",
    "initial = 0\n",
    "final = 0 + 30             # Tomando medias de 30 minutos\n",
    "\n",
    "data = np.zeros((4000, final - initial))  # Sao sempre 4000 dados (?)\n",
    "cont = 0\n",
    "\n",
    "for filename in os.listdir(directory)[initial:final]:\n",
    "    read = profile_read(directory + '/' + filename)\n",
    "    data[:, cont] = read[1][:, 0]\n",
    "    phy = read[1]\n",
    "    cont += 1\n",
    "    #print(data)"
   ]
  },
  {
   "cell_type": "code",
   "execution_count": null,
   "id": "2857442b",
   "metadata": {},
   "outputs": [],
   "source": [
    "import os\n",
    "\n",
    "directory = '/Volumes/GoogleDrive/My Drive/Estudos/IC/Henrique/Programs/RMlicelPython/30'\n",
    "\n",
    "initial = 0\n",
    "final = 0 + 30             # Tomando medias de 30 minutos\n",
    "\n",
    "data = np.zeros((4000, final - initial))  # Sao sempre 4000 dados (?)\n",
    "cont = 0\n",
    "\n",
    "# Lendo o primeiro arquivo pra depois concatenar os proximos\n",
    "\n",
    "filename = os.listdir(directory)[initial]\n",
    "read     = profile_read(directory + '/' + filename)\n",
    "df1      = pd.DataFrame(read[1])\n",
    "df3      = df1 # TESTE\n",
    "for filename in os.listdir(directory)[initial+1:final]:\n",
    "    read = profile_read(directory + '/' + filename)\n",
    "    df2  = pd.DataFrame(read[1])\n",
    "    df1  = pd.concat((df1, df2))\n",
    "\n",
    "df1 = df1.groupby(level=0).mean()\n",
    "df1"
   ]
  },
  {
   "cell_type": "code",
   "execution_count": null,
   "id": "e3dd2c8a",
   "metadata": {},
   "outputs": [],
   "source": [
    "data"
   ]
  },
  {
   "cell_type": "code",
   "execution_count": null,
   "id": "cced1916",
   "metadata": {},
   "outputs": [],
   "source": [
    "os.listdir(directory)[initial]"
   ]
  },
  {
   "cell_type": "code",
   "execution_count": null,
   "id": "6ce46a69",
   "metadata": {},
   "outputs": [],
   "source": [
    "# Aqui é um jeito provisório de fazer o header\n",
    "\n",
    "lista = []\n",
    "for i in range(len(read[0]['ch']['active'])):\n",
    "    wlen   = str(read[0]['ch']['wlen'][i])\n",
    "    pol    = str(read[0]['ch']['pol'][i])\n",
    "    photon = read[0]['ch']['photons'][i]\n",
    "    an     = 'analog' if photon == 0 else 'photon'\n",
    "    tr     = read[0]['ch']['tr'][i]\n",
    "    lista.append(wlen + ' ' + pol + ' ' + an + ' ' + tr[-1])\n",
    "\n",
    "###############################################\n",
    "\n",
    "\n",
    "df.columns = lista\n",
    "alt = 7.5*(np.array(df.index) + 1)\n",
    "\n",
    "df['alt'] = alt\n",
    "s355 = df['355 o analog 0']\n",
    "\n",
    "df.set_index('alt', inplace=True)\n",
    "\n",
    "df.head()"
   ]
  },
  {
   "cell_type": "code",
   "execution_count": null,
   "id": "29ed563b",
   "metadata": {},
   "outputs": [],
   "source": [
    "plot = df[:3000].plot(grid=True, subplots=True, title= f'Mean of signals between {initial} and {final} minutes')"
   ]
  },
  {
   "cell_type": "markdown",
   "id": "b4b93b2e",
   "metadata": {},
   "source": [
    "## Para conferir se os dados estão sendo lidos"
   ]
  },
  {
   "cell_type": "code",
   "execution_count": null,
   "id": "8c122dba",
   "metadata": {
    "scrolled": false
   },
   "outputs": [],
   "source": [
    "#os.listdir(directory)"
   ]
  },
  {
   "cell_type": "code",
   "execution_count": null,
   "id": "f16a4f1f",
   "metadata": {},
   "outputs": [],
   "source": [
    "df = pd.DataFrame(data)\n",
    "#df.columns = lista\n",
    "df"
   ]
  },
  {
   "cell_type": "code",
   "execution_count": null,
   "id": "de4957a8",
   "metadata": {},
   "outputs": [],
   "source": [
    "s355 = df.mean(axis=1)\n",
    "s355"
   ]
  },
  {
   "cell_type": "code",
   "execution_count": null,
   "id": "3b20fad4",
   "metadata": {},
   "outputs": [],
   "source": [
    "import numpy as np\n",
    "import pandas as pd\n",
    "\n",
    "# some random data frames\n",
    "df1 = pd.DataFrame(dict(x=np.random.randn(100), y=np.random.randint(0, 5, 100)))\n",
    "df2 = pd.DataFrame(dict(x=np.random.randn(100), y=np.random.randint(0, 5, 100)))\n",
    "\n",
    "# concatenate them\n",
    "df_concat = pd.concat((df1, df2))\n",
    "\n",
    "print(df_concat.mean())\n",
    "# x   -0.163044\n",
    "# y    2.120000\n",
    "# dtype: float64\n",
    "\n",
    "print(df_concat.median())\n",
    "# x   -0.192037\n",
    "# y    2.000000\n",
    "# dtype: float64"
   ]
  },
  {
   "cell_type": "markdown",
   "id": "cc5e92c1",
   "metadata": {},
   "source": [
    "# Applying corrections to signal data"
   ]
  },
  {
   "cell_type": "code",
   "execution_count": null,
   "id": "d71cc5b9",
   "metadata": {},
   "outputs": [],
   "source": [
    "plt.plot(s355, alt*1e-3)\n",
    "plt.grid(True)\n",
    "plt.ylabel('Altitude (km)')\n",
    "plt.xlabel('Signal [a. u.]')\n",
    "plt.ylim(0, 4)\n",
    "plt.savefig('fig1', dpi=200)"
   ]
  },
  {
   "cell_type": "markdown",
   "id": "e0c32f9d",
   "metadata": {},
   "source": [
    "## Picture for $log(P r^2)$"
   ]
  },
  {
   "cell_type": "code",
   "execution_count": null,
   "id": "34d56787",
   "metadata": {},
   "outputs": [],
   "source": [
    "plt.plot(np.log(s355*alt*alt), alt*1e-3)\n",
    "plt.grid(True)\n",
    "plt.legend(['355 nm'])\n",
    "plt.ylabel('Altitude (km)')\n",
    "plt.xlabel('Log Range Corrected Signal [a. u.]')\n",
    "plt.ylim(0, 15)\n",
    "plt.savefig('fig3', dpi=200)"
   ]
  },
  {
   "cell_type": "markdown",
   "id": "6e262254",
   "metadata": {},
   "source": [
    "# Read temperature and pressure data"
   ]
  },
  {
   "cell_type": "markdown",
   "id": "c4c0e436",
   "metadata": {},
   "source": [
    "## Usando perfil artificial"
   ]
  },
  {
   "cell_type": "markdown",
   "id": "82202d02",
   "metadata": {},
   "source": [
    "z = alt\n",
    "Pair = read[0]['P0']*np.exp(-(z-100)/8e3)    # H aproximadamente 8km\n",
    "Tair = read[0]['T0'] - (9.8*1e-3)*z    # 6.5 lapse rate"
   ]
  },
  {
   "cell_type": "markdown",
   "id": "26cc84e4",
   "metadata": {},
   "source": [
    "Pair *= 100\n",
    "Pair"
   ]
  },
  {
   "cell_type": "markdown",
   "id": "81874f18",
   "metadata": {
    "scrolled": true
   },
   "source": [
    "plt.plot(Pair, alt*1e-3)\n",
    "plt.grid(True)\n",
    "plt.xlabel('Pressure [pa]')\n",
    "plt.ylabel('Altitude [km]')\n",
    "plt.ylim(0, 15)\n",
    "plt.savefig('fig4', dpi=200)"
   ]
  },
  {
   "cell_type": "markdown",
   "id": "0619633d",
   "metadata": {},
   "source": [
    "Tair = read[0]['T0']+273.15 -0.006666666666668182*alt[:int(12000/7.5)]\n",
    "Tair_p = Tair[-1]*np.ones(len(alt[int(12000/7.5):]))\n",
    "Tair = np.concatenate((Tair, Tair_p), axis=0)"
   ]
  },
  {
   "cell_type": "markdown",
   "id": "2985f1cc",
   "metadata": {
    "scrolled": true
   },
   "source": [
    "plt.plot(Tair, alt*1e-3)\n",
    "plt.grid(True)\n",
    "plt.xlabel('Temperature [K]')\n",
    "plt.ylabel('Altitude [km]')\n",
    "plt.ylim(0, 15)\n",
    "plt.savefig('fig5', dpi=200)"
   ]
  },
  {
   "cell_type": "markdown",
   "id": "183e046a",
   "metadata": {},
   "source": [
    "PairTair = pd.read_fwf('PairTair.txt', header=None)"
   ]
  },
  {
   "cell_type": "markdown",
   "id": "9b77ab2d",
   "metadata": {},
   "source": [
    "PairTair"
   ]
  },
  {
   "cell_type": "markdown",
   "id": "89f71d8a",
   "metadata": {},
   "source": [
    "## Usando dados de Wyoming"
   ]
  },
  {
   "cell_type": "code",
   "execution_count": null,
   "id": "dae2bf81",
   "metadata": {},
   "outputs": [],
   "source": [
    "head = read[0]\n",
    "date = datetime.strptime(head['datei'], '%d/%m/%Y').date()\n",
    "station = 'SBMN'\n",
    "\n",
    "PairTair = WyomingUpperAir.request_data(date, station)"
   ]
  },
  {
   "cell_type": "code",
   "execution_count": null,
   "id": "e367b11e",
   "metadata": {},
   "outputs": [],
   "source": [
    "PairTair.head()"
   ]
  },
  {
   "cell_type": "code",
   "execution_count": null,
   "id": "c5c82c71",
   "metadata": {},
   "outputs": [],
   "source": [
    "PairTair"
   ]
  },
  {
   "cell_type": "code",
   "execution_count": null,
   "id": "145d47d4",
   "metadata": {},
   "outputs": [],
   "source": [
    "Pair = 100*PairTair['pressure']\n",
    "Tair = 273.15 + PairTair['temperature']\n",
    "\n",
    "bg = np.mean(s355[-500:])  # O background eh a media dos ultimos 500 bins\n",
    "n_alt = alt[11:3145]       # Preciso ajustar o tamanho dos arrays de altitude e sinal\n",
    "                           # pra poder fazer a interpolacao\n",
    "n_s355 = s355[11:3145]     # '''\n",
    "\n",
    "x = PairTair['height']\n",
    "y = Pair\n",
    "f = interp1d(x, y, kind='cubic')\n",
    "newPair = f(n_alt)\n",
    "\n",
    "\n",
    "y = Tair\n",
    "f = interp1d(x, y, kind='cubic')\n",
    "newTair = f(n_alt)"
   ]
  },
  {
   "cell_type": "code",
   "execution_count": null,
   "id": "dfba230c",
   "metadata": {
    "scrolled": true
   },
   "outputs": [],
   "source": [
    "plt.plot(newPair, n_alt*1e-3)\n",
    "plt.grid(True)\n",
    "plt.xlabel('Pressure [pa]')\n",
    "plt.ylabel('Altitude [km]')\n",
    "plt.ylim(0, 20)\n",
    "plt.savefig('Pres_profile', dpi=200)"
   ]
  },
  {
   "cell_type": "code",
   "execution_count": null,
   "id": "f53feb55",
   "metadata": {},
   "outputs": [],
   "source": [
    "plt.plot(newTair, n_alt*1e-3)\n",
    "plt.grid(True)\n",
    "plt.xlabel('Temperature [K]')\n",
    "plt.ylabel('Altitude [km]')\n",
    "plt.ylim(0, 20)\n",
    "plt.savefig('Temp_profile', dpi=200)"
   ]
  },
  {
   "cell_type": "markdown",
   "id": "13b48f0a",
   "metadata": {},
   "source": [
    "# Molecular Scattering"
   ]
  },
  {
   "cell_type": "code",
   "execution_count": null,
   "id": "cf917766",
   "metadata": {},
   "outputs": [],
   "source": [
    "%run alphabeta.ipynb"
   ]
  },
  {
   "cell_type": "code",
   "execution_count": null,
   "id": "afab618f",
   "metadata": {},
   "outputs": [],
   "source": [
    "lambd = 355*1e-9\n",
    "co2 = 400\n",
    "\n",
    "\n",
    "alpha_mol, beta_mol, LR_mol = alphabeta(newPair, newTair, lambd, co2)"
   ]
  },
  {
   "cell_type": "code",
   "execution_count": null,
   "id": "2bd2b346",
   "metadata": {},
   "outputs": [],
   "source": [
    "plt.plot(alpha_mol*1e6, n_alt*1e-3)\n",
    "plt.grid(True)\n",
    "plt.xlabel('alpha molecular [1/Mm]')\n",
    "plt.ylabel('Altitude [km]')\n",
    "plt.savefig('fig6', dpi=200)"
   ]
  },
  {
   "cell_type": "code",
   "execution_count": null,
   "id": "c2acc4e6",
   "metadata": {},
   "outputs": [],
   "source": [
    "plt.plot(beta_mol*1e6, n_alt*1e-3)\n",
    "plt.grid(True)\n",
    "plt.xlabel('beta molecular [1/Mm 1/sr]')\n",
    "plt.ylabel('Altitude [km]')\n",
    "plt.savefig('fig7', dpi=200)"
   ]
  },
  {
   "cell_type": "markdown",
   "id": "768b41da",
   "metadata": {},
   "source": [
    "# Obtaining overlap"
   ]
  },
  {
   "cell_type": "code",
   "execution_count": null,
   "id": "65dec738",
   "metadata": {},
   "outputs": [],
   "source": [
    "overlap = pd.read_csv('overlap_narrow.csv', header=None)\n",
    "overlap"
   ]
  },
  {
   "cell_type": "code",
   "execution_count": null,
   "id": "82a5252d",
   "metadata": {
    "scrolled": false
   },
   "outputs": [],
   "source": [
    "plt.plot(overlap[0])\n",
    "plt.grid()"
   ]
  },
  {
   "cell_type": "markdown",
   "id": "0fef2ae8",
   "metadata": {},
   "source": [
    "# built the simulated molecular signal"
   ]
  },
  {
   "cell_type": "code",
   "execution_count": null,
   "id": "49d9c229",
   "metadata": {},
   "outputs": [],
   "source": [
    "s355 = s355 - bg          # Subtraindo o background\n",
    "s355 = np.concatenate((s355[:2000]/overlap[0], s355[2000:]), axis=0)   #Dividindo pelo overlap\n",
    "n_alt = alt[11:3145]\n",
    "n_s355 = s355[11:3145]"
   ]
  },
  {
   "cell_type": "code",
   "execution_count": null,
   "id": "1dcd4479",
   "metadata": {},
   "outputs": [],
   "source": [
    "meteo_alt = n_alt"
   ]
  },
  {
   "cell_type": "code",
   "execution_count": null,
   "id": "ff4983fb",
   "metadata": {},
   "outputs": [],
   "source": [
    "model = (beta_mol * np.exp(-2*integrate.cumtrapz(alpha_mol, meteo_alt, initial=0))) / meteo_alt**2"
   ]
  },
  {
   "cell_type": "code",
   "execution_count": null,
   "id": "09652765",
   "metadata": {},
   "outputs": [],
   "source": [
    "plt.semilogx(model*meteo_alt*meteo_alt, meteo_alt*1e-3)\n",
    "plt.scatter((n_s355)*n_alt*n_alt, n_alt*1e-3, s=0.5, c='orange')\n",
    "plt.grid(True)\n",
    "plt.ylabel('Altitude [km]')\n",
    "plt.xlim(1e-10, 1e15)"
   ]
  },
  {
   "cell_type": "markdown",
   "id": "5d9b4a61",
   "metadata": {},
   "source": [
    "## Determinando a região do ajuste"
   ]
  },
  {
   "cell_type": "code",
   "execution_count": null,
   "id": "6b403b5b",
   "metadata": {},
   "outputs": [],
   "source": [
    "alt_min = 8.   # km\n",
    "alt_max = 15   # km\n",
    "\n",
    "index_min = int(alt_min*1e3/7.5)\n",
    "index_max = int(alt_max*1e3/7.5)"
   ]
  },
  {
   "cell_type": "code",
   "execution_count": null,
   "id": "0b7492b0",
   "metadata": {},
   "outputs": [],
   "source": [
    "plt.scatter(model[index_min:index_max], s355[index_min:index_max], facecolors = 'none', edgecolors = 'orange')\n",
    "plt.grid(True)\n",
    "plt.xlabel('Model molecular')\n",
    "plt.ylabel('Measured signal')"
   ]
  },
  {
   "cell_type": "code",
   "execution_count": null,
   "id": "302fc591",
   "metadata": {},
   "outputs": [],
   "source": [
    "f = lambda x, a, b: a*x + b\n",
    "\n",
    "fit = optimize.curve_fit(f, model[index_min:index_max], n_s355[index_min:index_max], p0=(1e13, 116))\n",
    "\n",
    "a = fit[0][0]\n",
    "b = fit[0][1]\n",
    "\n",
    "fit"
   ]
  },
  {
   "cell_type": "code",
   "execution_count": null,
   "id": "eeeb2f23",
   "metadata": {},
   "outputs": [],
   "source": [
    "plt.scatter(model[index_min:index_max], n_s355[index_min:index_max], facecolors = 'none', edgecolors = 'orange')\n",
    "plt.plot(model[index_min:index_max], f(model[index_min:index_max], a, b))\n",
    "plt.grid(True)\n",
    "plt.xlabel('Model molecular')\n",
    "plt.ylabel('Measured signal')"
   ]
  },
  {
   "cell_type": "code",
   "execution_count": null,
   "id": "a2d6192b",
   "metadata": {
    "scrolled": true
   },
   "outputs": [],
   "source": [
    "plt.semilogx(model*meteo_alt*meteo_alt, meteo_alt*1e-3)\n",
    "plt.scatter((n_s355)*n_alt*n_alt, n_alt*1e-3, c='orange', s=0.5)\n",
    "plt.semilogx(model*a*meteo_alt*meteo_alt, meteo_alt*1e-3, c='green')\n",
    "plt.grid(True)\n",
    "plt.ylabel('Altitude [km]')\n",
    "plt.xlim(1e-10, 1e15)\n",
    "plt.savefig('fig8', dpi=200)"
   ]
  },
  {
   "cell_type": "code",
   "execution_count": null,
   "id": "2f3eadb4",
   "metadata": {},
   "outputs": [],
   "source": [
    "%run fernald_new1.ipynb\n",
    "\n",
    "# Devemos sempre entrar com vetores coluna no algoritmo de inversao\n",
    "\n",
    "zref = np.array([6*1e3, 14*1e3])\n",
    "LR = 28.\n",
    "\n",
    "z = n_alt[..., None]\n",
    "pr = n_s355[..., None]\n",
    "ref = zref[..., None]\n",
    "lambd = 355*1e-9\n",
    "LidarRatio = LR\n",
    "Pair = newPair[..., None]\n",
    "Tair = newTair[..., None]\n",
    "\n",
    "\n",
    "beta_par, alpha_par, LR_par, model_mol, ab_fit = fernald_new1(z,pr,ref,lambd,LidarRatio,Pair,Tair)"
   ]
  },
  {
   "cell_type": "markdown",
   "id": "85c88387",
   "metadata": {},
   "source": [
    "## Devemos restringir o plot a partir de 750m porque antes o overlap varia mto"
   ]
  },
  {
   "cell_type": "code",
   "execution_count": null,
   "id": "5d4f9e03",
   "metadata": {},
   "outputs": [],
   "source": [
    "lim = 100\n",
    "beta_par['aer']  = beta_par['aer'][lim:]\n",
    "beta_par['mol']  = beta_par['mol'][lim:]\n",
    "beta_par['tot']  = beta_par['tot'][lim:]\n",
    "alpha_par['aer'] = alpha_par['aer'][lim:]\n",
    "alpha_par['mol'] = alpha_par['mol'][lim:]\n",
    "alpha_par['tot'] = alpha_par['tot'][lim:]\n",
    "n_alt = n_alt[lim:]"
   ]
  },
  {
   "cell_type": "code",
   "execution_count": null,
   "id": "c7bc860c",
   "metadata": {},
   "outputs": [],
   "source": [
    "plt.plot(beta_par['aer']*1e6, n_alt*1e-3)\n",
    "plt.plot(beta_par['mol']*1e6, n_alt*1e-3)\n",
    "plt.plot(beta_par['tot']*1e6, n_alt*1e-3)\n",
    "plt.grid(True)\n",
    "plt.legend(['aer', 'mol', 'tot'])\n",
    "# plt.xlim(-5, 14)\n",
    "plt.ylim(0, 10)\n",
    "plt.xlabel('beta [1/Mm sr]')\n",
    "plt.ylabel('Altitude [km]')\n",
    "plt.savefig('backscatter', dpi=200)"
   ]
  },
  {
   "cell_type": "code",
   "execution_count": null,
   "id": "59d30ebc",
   "metadata": {},
   "outputs": [],
   "source": [
    "plt.plot(alpha_par['aer']*1e6, n_alt*1e-3)\n",
    "plt.plot(alpha_par['mol']*1e6, n_alt*1e-3)\n",
    "plt.plot(alpha_par['tot']*1e6, n_alt*1e-3)\n",
    "plt.grid(True)\n",
    "plt.legend(['aer', 'mol', 'tot'])\n",
    "# plt.xlim(-5, 14)\n",
    "plt.ylim(0, 10)\n",
    "plt.xlabel('beta [1/Mm]')\n",
    "plt.ylabel('Altitude [km]')\n",
    "plt.savefig('alpha', dpi=200)"
   ]
  }
 ],
 "metadata": {
  "kernelspec": {
   "display_name": "Python 3 (ipykernel)",
   "language": "python",
   "name": "python3"
  },
  "language_info": {
   "codemirror_mode": {
    "name": "ipython",
    "version": 3
   },
   "file_extension": ".py",
   "mimetype": "text/x-python",
   "name": "python",
   "nbconvert_exporter": "python",
   "pygments_lexer": "ipython3",
   "version": "3.9.10"
  }
 },
 "nbformat": 4,
 "nbformat_minor": 5
}
