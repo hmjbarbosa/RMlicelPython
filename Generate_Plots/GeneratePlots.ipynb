{
 "cells": [
  {
   "cell_type": "code",
   "execution_count": 3,
   "id": "a2e538fc-6133-4979-a1cc-a8c0a4ec53bb",
   "metadata": {},
   "outputs": [],
   "source": [
    "import pandas as pd\n",
    "import matplotlib.pyplot as plt\n",
    "from matplotlib.dates import DateFormatter\n",
    "from matplotlib.dates import AutoDateLocator\n",
    "from matplotlib.dates import ConciseDateFormatter"
   ]
  },
  {
   "cell_type": "code",
   "execution_count": 4,
   "id": "0d0dfec1-188c-45a1-843b-80445f7ef463",
   "metadata": {},
   "outputs": [],
   "source": [
    "%run '/Volumes/GoogleDrive/My Drive/Estudos/IC/Henrique/Programs/RMlicelPython/profile_read_py.py'"
   ]
  },
  {
   "cell_type": "markdown",
   "id": "6e83b378-3c22-4ad9-947f-b2c19d1ce8a9",
   "metadata": {},
   "source": [
    "# Reading multiple data (mean signal)"
   ]
  },
  {
   "cell_type": "markdown",
   "id": "9095023d-7bcc-4d20-9cd5-65e1fd2a039b",
   "metadata": {},
   "source": [
    "The idea here is to iterate over the data files in a month directory."
   ]
  },
  {
   "cell_type": "code",
   "execution_count": 32,
   "id": "d23995cd-dbd5-41d3-b8af-44cdff0d9234",
   "metadata": {},
   "outputs": [
    {
     "name": "stdout",
     "output_type": "stream",
     "text": [
      "Number of files at day 01: 3724\n",
      "Number of files at day 02: 7202\n",
      "Number of files at day 03: 7155\n",
      "Number of files at day 04: 7216\n",
      "Number of files at day 05: 7220\n",
      "Number of files at day 06: 7162\n",
      "Number of files at day 07: 7192\n",
      "Number of files at day 08: 4347\n",
      "Number of files at day 09: 7207\n",
      "Number of files at day 10: 7201\n",
      "Number of files at day 11: 7220\n",
      "Number of files at day 12: 7215\n",
      "Number of files at day 13: 7215\n",
      "Number of files at day 14: 7215\n"
     ]
    }
   ],
   "source": [
    "import os\n",
    "\n",
    "month = '/Users/costaleirbag/floresta.if.usp.br/ftp/old/lidar/data/2014/3'\n",
    "\n",
    "# Primeiro testo um arquivo pra saber o tamanho do array gerado, e ai gerar o dataframe\n",
    "# ja certo.\n",
    "\n",
    "days_folder = os.listdir(month)\n",
    "days_folder.sort()\n",
    "names = []\n",
    "\n",
    "#os.mkdir(f'Plots/Month{os.path.basename(month)}_2014')\n",
    "\n",
    "# Filtrando apenas as pastas\n",
    "        \n",
    "for day in days_folder[1:]:\n",
    "    directory = month + f'/{day}'\n",
    "    if os.path.isdir(directory):\n",
    "        files = os.listdir(directory)\n",
    "        files.sort()\n",
    "        n_files = len(files)\n",
    "        print(f'Number of files at day {day}: {n_files}')\n",
    "\n",
    "        array_size = len(profile_read(directory + f'/{files[0]}')[1])\n",
    "        data    = np.zeros((array_size, n_files))\n",
    "        date    = []\n",
    "\n",
    "        cont    = 0\n",
    "        errors  = []\n",
    "        nodata  = []\n",
    "\n",
    "        for filename in files:\n",
    "            #print(f'Arquivo: {cont+1}', end='\\r')\n",
    "            path = os.path.join(directory, filename)\n",
    "            try:\n",
    "                head, phy, raw = profile_read(path)\n",
    "                date_str = head['datei'] + ' ' + head['houri']\n",
    "                date.append(datetime.strptime(date_str, \"%d/%m/%Y %H:%M:%S\"))\n",
    "                data[:, cont] = phy[:, 0]\n",
    "            except ValueError as e:\n",
    "                nodata.append(str(cont))\n",
    "                #print(f'Value error happened at file {cont} in day {day}.')\n",
    "                #print(f\"{e}, {e.__class__}\")\n",
    "                data[:, cont] = np.nan\n",
    "                date_str = head['datei'] + ' ' + head['houri']\n",
    "                date.append(datetime.strptime(date_str, \"%d/%m/%Y %H:%M:%S\"))\n",
    "            # except OverflowError as e:\n",
    "            #     errors.append(str(cont))\n",
    "            #     #print(f\"Overflow error happened at file {cont}.\")\n",
    "            #     #print(f\"{e}, {e.__class__}\")\n",
    "            #     data[:, cont] = np.nan\n",
    "            #     date_str = head['datei'] + ' ' + head['houri']\n",
    "            #     date.append(datetime.strptime(date_str, \"%d/%m/%Y %H:%M:%S\"))\n",
    "            cont += 1\n",
    "            #print(data)\n",
    "\n",
    "        #date = np.array(date)\n",
    "\n",
    "        # errors_str = ', '.join(errors)\n",
    "        nodata_str = ', '.join(nodata)\n",
    "        # print(f'\\n  All files with overflow: {errors_str}.\\n')\n",
    "        if len(nodata) != 0:\n",
    "            print(f'\\n  All files with no data: {nodata_str}.\\n')\n",
    "\n",
    "\n",
    "\n",
    "        bg_vec = np.mean(data[-500:], axis=0)\n",
    "        data_nobg = data - bg_vec\n",
    "\n",
    "        alt = np.arange(1, data.shape[0] + 1, 1)*7.5\n",
    "\n",
    "        data_pr2 = pd.DataFrame((data_nobg.T * alt * alt).T, columns=date)\n",
    "        data_pr2['Altitude'] = alt\n",
    "        data_pr2.set_index('Altitude', inplace=True)\n",
    "\n",
    "\n",
    "        # Tirando medias de 5 em 5 min\n",
    "        data_pr2.columns = pd.to_datetime(data_pr2.columns)\n",
    "        data_pr2 = data_pr2.resample('5T', axis=1).mean()\n",
    "        data_pr2[data_pr2 < 0] = np.nan\n",
    "\n",
    "        fig, ax = plt.subplots(figsize = (12,9))\n",
    "\n",
    "        psm = ax.pcolormesh(data_pr2.columns, alt*1e-3, (data_pr2), vmin = 0, vmax=1e7, cmap='jet')\n",
    "\n",
    "        cbar = fig.colorbar(psm, ax=ax, label = \"Range Corrected Signal [a. u.]\")\n",
    "\n",
    "        ax.set_xlabel(\"Date\", fontsize=20)\n",
    "\n",
    "        ax.set_ylabel(\"Altitude (km)\", fontsize=20)\n",
    "\n",
    "        ax.set_ylim(0, 15)\n",
    "\n",
    "        cbar.ax.tick_params(labelsize=15)\n",
    "\n",
    "        ax.figure.axes[-1].yaxis.label.set_size(20)\n",
    "\n",
    "        locator   = AutoDateLocator(minticks=2, maxticks=8)\n",
    "        formatter = ConciseDateFormatter(locator)\n",
    "        ax.xaxis.set_major_locator(locator)\n",
    "        ax.xaxis.set_major_formatter(formatter)\n",
    "\n",
    "        plt.savefig(f'Plots/Month{os.path.basename(month)}_2014/Day{day}.png', dpi=100)\n",
    "\n",
    "        plt.close()"
   ]
  },
  {
   "cell_type": "code",
   "execution_count": 31,
   "id": "aa979a9b-4cd8-4050-86db-1cc298f66a54",
   "metadata": {},
   "outputs": [
    {
     "data": {
      "text/plain": [
       "['01.zip',\n",
       " '01.zip.md5',\n",
       " '02.zip',\n",
       " '02.zip.md5',\n",
       " '03.zip',\n",
       " '03.zip.md5',\n",
       " '04.zip',\n",
       " '04.zip.md5',\n",
       " '05.zip',\n",
       " '05.zip.md5',\n",
       " '06.zip',\n",
       " '06.zip.md5',\n",
       " '07.zip',\n",
       " '07.zip.md5',\n",
       " '08.zip',\n",
       " '08.zip.md5',\n",
       " '09.zip',\n",
       " '09.zip.md5',\n",
       " '10.zip',\n",
       " '10.zip.md5',\n",
       " '11.zip',\n",
       " '11.zip.md5',\n",
       " '12.zip',\n",
       " '12.zip.md5',\n",
       " '13.zip',\n",
       " '13.zip.md5',\n",
       " '14.zip',\n",
       " '14.zip.md5',\n",
       " '15.zip',\n",
       " 'index.html',\n",
       " 'index.html?C=D;O=A',\n",
       " 'index.html?C=M;O=A',\n",
       " 'index.html?C=N;O=D',\n",
       " 'index.html?C=S;O=A']"
      ]
     },
     "execution_count": 31,
     "metadata": {},
     "output_type": "execute_result"
    }
   ],
   "source": [
    "days_folder"
   ]
  },
  {
   "cell_type": "code",
   "execution_count": null,
   "id": "30f11234-1198-41fb-b3f6-212ca7f81de7",
   "metadata": {},
   "outputs": [],
   "source": []
  }
 ],
 "metadata": {
  "kernelspec": {
   "display_name": "Python 3 (ipykernel)",
   "language": "python",
   "name": "python3"
  },
  "language_info": {
   "codemirror_mode": {
    "name": "ipython",
    "version": 3
   },
   "file_extension": ".py",
   "mimetype": "text/x-python",
   "name": "python",
   "nbconvert_exporter": "python",
   "pygments_lexer": "ipython3",
   "version": "3.10.4"
  }
 },
 "nbformat": 4,
 "nbformat_minor": 5
}
